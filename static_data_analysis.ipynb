{
 "cells": [
  {
   "cell_type": "markdown",
   "id": "525249d2",
   "metadata": {},
   "source": [
    "# **Проект: Статистический анализ данных**\n",
    "\n",
    "## Статистический анализ данных для GoFast:"
   ]
  },
  {
   "cell_type": "markdown",
   "id": "5b01e3d1",
   "metadata": {},
   "source": [
    "**Цель исследования:** \n",
    "\n",
    "Проанализировать данные о пользователях сервиса GoFast, их поездках и наличии подписки для выявления различий в поведении пользователей с подпиской Ultra и без подписки, а также для формулировки рекомендаций по увеличению выручки компании.\n",
    "\n",
    "**Задачи исследования:**\n",
    "\n",
    "- Предобработка данных: Объединить, очистить и подготовить данные для анализа.\n",
    "- Анализ данных: Исследовать характеристики пользователей, их поездок и выручку, сравнить пользователей с подпиской и без.\n",
    "- Проверка гипотез: Статистически проверить различия в поведении и выручке между пользователями с подпиской и без.\n",
    "- Формулирование выводов и рекомендаций: На основе анализа данных предложить стратегии по увеличению выручки и улучшению сервиса."
   ]
  },
  {
   "cell_type": "markdown",
   "id": "c3cd5e04",
   "metadata": {},
   "source": [
    "## **Загрузка библиотек**"
   ]
  },
  {
   "cell_type": "code",
   "execution_count": 26,
   "id": "91c9b44a",
   "metadata": {},
   "outputs": [],
   "source": [
    "#загрузим необходимые библиотеки\n",
    "import pandas as pd\n",
    "from IPython.display import display\n",
    "import numpy as np\n",
    "import matplotlib.pyplot as plt\n",
    "from scipy import stats as st\n",
    "from scipy.stats import binom"
   ]
  },
  {
   "cell_type": "markdown",
   "id": "25b9f5cf",
   "metadata": {},
   "source": [
    "## **Загрузка данных**"
   ]
  },
  {
   "cell_type": "code",
   "execution_count": 27,
   "id": "9b862ede",
   "metadata": {},
   "outputs": [],
   "source": [
    "#загрузим необходимые таблицы\n",
    "try:\n",
    "    users_go = pd.read_csv('/datasets/users_go.csv')\n",
    "except:\n",
    "    users_go = pd.read_csv('https://code.s3.yandex.net/datasets/users_go.csv')\n",
    "    \n",
    "try:\n",
    "    rides_go = pd.read_csv('/datasets/rides_go.csv', parse_dates=['date'])\n",
    "except:\n",
    "    rides_go = pd.read_csv('https://code.s3.yandex.net/datasets/rides_go.csv', parse_dates=['date'])\n",
    "\n",
    "try:\n",
    "    subscriptions_go  = pd.read_csv('/datasets/subscriptions_go.csv')\n",
    "except:\n",
    "    subscriptions_go = pd.read_csv('https://code.s3.yandex.net/datasets/subscriptions_go.csv')"
   ]
  },
  {
   "cell_type": "markdown",
   "id": "8687f3d6",
   "metadata": {},
   "source": [
    "## **Обзор данных**"
   ]
  },
  {
   "cell_type": "markdown",
   "id": "db9ea089",
   "metadata": {},
   "source": [
    "Ознакомимся с загруженным набором данных, чтобы получить представление о его структуре, особенностях и потенциале для дальнейшего исследования."
   ]
  },
  {
   "cell_type": "markdown",
   "id": "571195db",
   "metadata": {},
   "source": [
    "### Таблица **users_go**"
   ]
  },
  {
   "cell_type": "markdown",
   "id": "eea3869c",
   "metadata": {},
   "source": [
    "Таблица `users_go` содержит следующую информацию о пользователях:\n",
    "\n",
    "- **user_id** — уникальный идентификатор пользователя\n",
    "- **name** — имя пользователя\n",
    "- **age** — возраст\n",
    "- **city** — город\n",
    "- **subscription_type** — тип подписки (free, ultra)\n"
   ]
  },
  {
   "cell_type": "code",
   "execution_count": 28,
   "id": "afce69f5",
   "metadata": {},
   "outputs": [
    {
     "name": "stdout",
     "output_type": "stream",
     "text": [
      "Таблица о пользователях содержит: 1565 строк\n"
     ]
    },
    {
     "data": {
      "text/html": [
       "<div>\n",
       "<style scoped>\n",
       "    .dataframe tbody tr th:only-of-type {\n",
       "        vertical-align: middle;\n",
       "    }\n",
       "\n",
       "    .dataframe tbody tr th {\n",
       "        vertical-align: top;\n",
       "    }\n",
       "\n",
       "    .dataframe thead th {\n",
       "        text-align: right;\n",
       "    }\n",
       "</style>\n",
       "<table border=\"1\" class=\"dataframe\">\n",
       "  <thead>\n",
       "    <tr style=\"text-align: right;\">\n",
       "      <th></th>\n",
       "      <th>user_id</th>\n",
       "      <th>name</th>\n",
       "      <th>age</th>\n",
       "      <th>city</th>\n",
       "      <th>subscription_type</th>\n",
       "    </tr>\n",
       "  </thead>\n",
       "  <tbody>\n",
       "    <tr>\n",
       "      <th>0</th>\n",
       "      <td>1</td>\n",
       "      <td>Кира</td>\n",
       "      <td>22</td>\n",
       "      <td>Тюмень</td>\n",
       "      <td>ultra</td>\n",
       "    </tr>\n",
       "    <tr>\n",
       "      <th>1</th>\n",
       "      <td>2</td>\n",
       "      <td>Станислав</td>\n",
       "      <td>31</td>\n",
       "      <td>Омск</td>\n",
       "      <td>ultra</td>\n",
       "    </tr>\n",
       "    <tr>\n",
       "      <th>2</th>\n",
       "      <td>3</td>\n",
       "      <td>Алексей</td>\n",
       "      <td>20</td>\n",
       "      <td>Москва</td>\n",
       "      <td>ultra</td>\n",
       "    </tr>\n",
       "    <tr>\n",
       "      <th>3</th>\n",
       "      <td>4</td>\n",
       "      <td>Константин</td>\n",
       "      <td>26</td>\n",
       "      <td>Ростов-на-Дону</td>\n",
       "      <td>ultra</td>\n",
       "    </tr>\n",
       "    <tr>\n",
       "      <th>4</th>\n",
       "      <td>5</td>\n",
       "      <td>Адель</td>\n",
       "      <td>28</td>\n",
       "      <td>Омск</td>\n",
       "      <td>ultra</td>\n",
       "    </tr>\n",
       "  </tbody>\n",
       "</table>\n",
       "</div>"
      ],
      "text/plain": [
       "   user_id        name  age            city subscription_type\n",
       "0        1        Кира   22          Тюмень             ultra\n",
       "1        2   Станислав   31            Омск             ultra\n",
       "2        3     Алексей   20          Москва             ultra\n",
       "3        4  Константин   26  Ростов-на-Дону             ultra\n",
       "4        5       Адель   28            Омск             ultra"
      ]
     },
     "metadata": {},
     "output_type": "display_data"
    },
    {
     "name": "stdout",
     "output_type": "stream",
     "text": [
      "<class 'pandas.core.frame.DataFrame'>\n",
      "RangeIndex: 1565 entries, 0 to 1564\n",
      "Data columns (total 5 columns):\n",
      " #   Column             Non-Null Count  Dtype \n",
      "---  ------             --------------  ----- \n",
      " 0   user_id            1565 non-null   int64 \n",
      " 1   name               1565 non-null   object\n",
      " 2   age                1565 non-null   int64 \n",
      " 3   city               1565 non-null   object\n",
      " 4   subscription_type  1565 non-null   object\n",
      "dtypes: int64(2), object(3)\n",
      "memory usage: 61.3+ KB\n"
     ]
    },
    {
     "data": {
      "text/plain": [
       "None"
      ]
     },
     "metadata": {},
     "output_type": "display_data"
    }
   ],
   "source": [
    "#создадим функцию для отображения некоторых параметров \n",
    "def display_and_len(data,name):\n",
    "    print (f'Таблица {name} содержит: {len(data)} строк')\n",
    "    display (data.head())\n",
    "    display (data.info())\n",
    "#применим функцию display_and_len\n",
    "display_and_len(users_go,'о пользователях')"
   ]
  },
  {
   "cell_type": "markdown",
   "id": "8cd02502",
   "metadata": {},
   "source": [
    "### Таблица **rides_go** "
   ]
  },
  {
   "cell_type": "markdown",
   "id": "2426b910",
   "metadata": {},
   "source": [
    "Таблица `rides_go` содержит следующую информацию о поездках:\n",
    "\n",
    "- **user_id** — уникальный идентификатор пользователя\n",
    "- **distance** — расстояние, которое пользователь проехал в текущей сессии (в метрах)\n",
    "- **duration** — продолжительность сессии (в минутах) — время с того момента, как пользователь нажал кнопку «Начать поездку» до момента, как он нажал кнопку «Завершить поездку»\n",
    "- **date** — дата совершения поездки\n"
   ]
  },
  {
   "cell_type": "code",
   "execution_count": 29,
   "id": "b379c7e7",
   "metadata": {},
   "outputs": [
    {
     "name": "stdout",
     "output_type": "stream",
     "text": [
      "Таблица о поездках содержит: 18068 строк\n"
     ]
    },
    {
     "data": {
      "text/html": [
       "<div>\n",
       "<style scoped>\n",
       "    .dataframe tbody tr th:only-of-type {\n",
       "        vertical-align: middle;\n",
       "    }\n",
       "\n",
       "    .dataframe tbody tr th {\n",
       "        vertical-align: top;\n",
       "    }\n",
       "\n",
       "    .dataframe thead th {\n",
       "        text-align: right;\n",
       "    }\n",
       "</style>\n",
       "<table border=\"1\" class=\"dataframe\">\n",
       "  <thead>\n",
       "    <tr style=\"text-align: right;\">\n",
       "      <th></th>\n",
       "      <th>user_id</th>\n",
       "      <th>distance</th>\n",
       "      <th>duration</th>\n",
       "      <th>date</th>\n",
       "    </tr>\n",
       "  </thead>\n",
       "  <tbody>\n",
       "    <tr>\n",
       "      <th>0</th>\n",
       "      <td>1</td>\n",
       "      <td>4409.919140</td>\n",
       "      <td>25.599769</td>\n",
       "      <td>2021-01-01</td>\n",
       "    </tr>\n",
       "    <tr>\n",
       "      <th>1</th>\n",
       "      <td>1</td>\n",
       "      <td>2617.592153</td>\n",
       "      <td>15.816871</td>\n",
       "      <td>2021-01-18</td>\n",
       "    </tr>\n",
       "    <tr>\n",
       "      <th>2</th>\n",
       "      <td>1</td>\n",
       "      <td>754.159807</td>\n",
       "      <td>6.232113</td>\n",
       "      <td>2021-04-20</td>\n",
       "    </tr>\n",
       "    <tr>\n",
       "      <th>3</th>\n",
       "      <td>1</td>\n",
       "      <td>2694.783254</td>\n",
       "      <td>18.511000</td>\n",
       "      <td>2021-08-11</td>\n",
       "    </tr>\n",
       "    <tr>\n",
       "      <th>4</th>\n",
       "      <td>1</td>\n",
       "      <td>4028.687306</td>\n",
       "      <td>26.265803</td>\n",
       "      <td>2021-08-28</td>\n",
       "    </tr>\n",
       "  </tbody>\n",
       "</table>\n",
       "</div>"
      ],
      "text/plain": [
       "   user_id     distance   duration       date\n",
       "0        1  4409.919140  25.599769 2021-01-01\n",
       "1        1  2617.592153  15.816871 2021-01-18\n",
       "2        1   754.159807   6.232113 2021-04-20\n",
       "3        1  2694.783254  18.511000 2021-08-11\n",
       "4        1  4028.687306  26.265803 2021-08-28"
      ]
     },
     "metadata": {},
     "output_type": "display_data"
    },
    {
     "name": "stdout",
     "output_type": "stream",
     "text": [
      "<class 'pandas.core.frame.DataFrame'>\n",
      "RangeIndex: 18068 entries, 0 to 18067\n",
      "Data columns (total 4 columns):\n",
      " #   Column    Non-Null Count  Dtype         \n",
      "---  ------    --------------  -----         \n",
      " 0   user_id   18068 non-null  int64         \n",
      " 1   distance  18068 non-null  float64       \n",
      " 2   duration  18068 non-null  float64       \n",
      " 3   date      18068 non-null  datetime64[ns]\n",
      "dtypes: datetime64[ns](1), float64(2), int64(1)\n",
      "memory usage: 564.8 KB\n"
     ]
    },
    {
     "data": {
      "text/plain": [
       "None"
      ]
     },
     "metadata": {},
     "output_type": "display_data"
    }
   ],
   "source": [
    "#применим функцию display_and_len\n",
    "display_and_len(rides_go,'о поездках')"
   ]
  },
  {
   "cell_type": "markdown",
   "id": "5fd9c450",
   "metadata": {},
   "source": [
    "### Таблица **subscriptions_go**"
   ]
  },
  {
   "cell_type": "markdown",
   "id": "d6037ccd",
   "metadata": {},
   "source": [
    "Таблица `subscriptions_go` содержит следующую информацию о подписках:\n",
    "\n",
    "- **subscription_type** — тип подписки\n",
    "- **minute_price** — стоимость одной минуты поездки по данной подписке\n",
    "- **start_ride_price** — стоимость начала поездки\n",
    "- **subscription_fee** — стоимость ежемесячного платежа"
   ]
  },
  {
   "cell_type": "code",
   "execution_count": 30,
   "id": "a2962a2b",
   "metadata": {},
   "outputs": [
    {
     "name": "stdout",
     "output_type": "stream",
     "text": [
      "Таблица о подписках содержит: 2 строк\n"
     ]
    },
    {
     "data": {
      "text/html": [
       "<div>\n",
       "<style scoped>\n",
       "    .dataframe tbody tr th:only-of-type {\n",
       "        vertical-align: middle;\n",
       "    }\n",
       "\n",
       "    .dataframe tbody tr th {\n",
       "        vertical-align: top;\n",
       "    }\n",
       "\n",
       "    .dataframe thead th {\n",
       "        text-align: right;\n",
       "    }\n",
       "</style>\n",
       "<table border=\"1\" class=\"dataframe\">\n",
       "  <thead>\n",
       "    <tr style=\"text-align: right;\">\n",
       "      <th></th>\n",
       "      <th>subscription_type</th>\n",
       "      <th>minute_price</th>\n",
       "      <th>start_ride_price</th>\n",
       "      <th>subscription_fee</th>\n",
       "    </tr>\n",
       "  </thead>\n",
       "  <tbody>\n",
       "    <tr>\n",
       "      <th>0</th>\n",
       "      <td>free</td>\n",
       "      <td>8</td>\n",
       "      <td>50</td>\n",
       "      <td>0</td>\n",
       "    </tr>\n",
       "    <tr>\n",
       "      <th>1</th>\n",
       "      <td>ultra</td>\n",
       "      <td>6</td>\n",
       "      <td>0</td>\n",
       "      <td>199</td>\n",
       "    </tr>\n",
       "  </tbody>\n",
       "</table>\n",
       "</div>"
      ],
      "text/plain": [
       "  subscription_type  minute_price  start_ride_price  subscription_fee\n",
       "0              free             8                50                 0\n",
       "1             ultra             6                 0               199"
      ]
     },
     "metadata": {},
     "output_type": "display_data"
    },
    {
     "name": "stdout",
     "output_type": "stream",
     "text": [
      "<class 'pandas.core.frame.DataFrame'>\n",
      "RangeIndex: 2 entries, 0 to 1\n",
      "Data columns (total 4 columns):\n",
      " #   Column             Non-Null Count  Dtype \n",
      "---  ------             --------------  ----- \n",
      " 0   subscription_type  2 non-null      object\n",
      " 1   minute_price       2 non-null      int64 \n",
      " 2   start_ride_price   2 non-null      int64 \n",
      " 3   subscription_fee   2 non-null      int64 \n",
      "dtypes: int64(3), object(1)\n",
      "memory usage: 196.0+ bytes\n"
     ]
    },
    {
     "data": {
      "text/plain": [
       "None"
      ]
     },
     "metadata": {},
     "output_type": "display_data"
    }
   ],
   "source": [
    "#применим функцию display_and_len\n",
    "display_and_len(subscriptions_go,'о подписках')"
   ]
  },
  {
   "cell_type": "markdown",
   "id": "e8d5bcab",
   "metadata": {},
   "source": [
    "### **Вывод**"
   ]
  },
  {
   "cell_type": "markdown",
   "id": "b09ee338",
   "metadata": {},
   "source": [
    "В рамках данного исследования мы провели комплексную загрузку трех взаимосвязанных таблиц данных. Эти таблицы послужат основой для глубокого анализа и всесторонней проверки выдвинутых исследовательских гипотез."
   ]
  },
  {
   "cell_type": "markdown",
   "id": "f5bd914e",
   "metadata": {},
   "source": [
    "## **Предобработка данных**"
   ]
  },
  {
   "cell_type": "markdown",
   "id": "7254d6d1",
   "metadata": {},
   "source": [
    "Проведем предобработку данных в таблицах, чтобы подготовить их для дальнейшего анализа и использования."
   ]
  },
  {
   "cell_type": "code",
   "execution_count": 31,
   "id": "c021935f",
   "metadata": {},
   "outputs": [],
   "source": [
    "#создадим функцию для отображения некоторых параметров \n",
    "def description_info(data,name):\n",
    "    print (f'Описание таблицы {name}')\n",
    "    display (data.describe())\n",
    "    print (f'Информация таблицы {name}')\n",
    "    display (data.info())\n",
    "    print (f'Количество явных дубликатов в таблице {name}: {data.duplicated().sum()}')"
   ]
  },
  {
   "cell_type": "markdown",
   "id": "eda0cfb5",
   "metadata": {},
   "source": [
    "### Таблица **users_go**"
   ]
  },
  {
   "cell_type": "code",
   "execution_count": 32,
   "id": "fe74cc7b",
   "metadata": {},
   "outputs": [
    {
     "name": "stdout",
     "output_type": "stream",
     "text": [
      "Описание таблицы о пользователях\n"
     ]
    },
    {
     "data": {
      "text/html": [
       "<div>\n",
       "<style scoped>\n",
       "    .dataframe tbody tr th:only-of-type {\n",
       "        vertical-align: middle;\n",
       "    }\n",
       "\n",
       "    .dataframe tbody tr th {\n",
       "        vertical-align: top;\n",
       "    }\n",
       "\n",
       "    .dataframe thead th {\n",
       "        text-align: right;\n",
       "    }\n",
       "</style>\n",
       "<table border=\"1\" class=\"dataframe\">\n",
       "  <thead>\n",
       "    <tr style=\"text-align: right;\">\n",
       "      <th></th>\n",
       "      <th>user_id</th>\n",
       "      <th>age</th>\n",
       "    </tr>\n",
       "  </thead>\n",
       "  <tbody>\n",
       "    <tr>\n",
       "      <th>count</th>\n",
       "      <td>1565.000000</td>\n",
       "      <td>1565.000000</td>\n",
       "    </tr>\n",
       "    <tr>\n",
       "      <th>mean</th>\n",
       "      <td>762.633866</td>\n",
       "      <td>24.922045</td>\n",
       "    </tr>\n",
       "    <tr>\n",
       "      <th>std</th>\n",
       "      <td>443.260155</td>\n",
       "      <td>4.553496</td>\n",
       "    </tr>\n",
       "    <tr>\n",
       "      <th>min</th>\n",
       "      <td>1.000000</td>\n",
       "      <td>12.000000</td>\n",
       "    </tr>\n",
       "    <tr>\n",
       "      <th>25%</th>\n",
       "      <td>378.000000</td>\n",
       "      <td>22.000000</td>\n",
       "    </tr>\n",
       "    <tr>\n",
       "      <th>50%</th>\n",
       "      <td>762.000000</td>\n",
       "      <td>25.000000</td>\n",
       "    </tr>\n",
       "    <tr>\n",
       "      <th>75%</th>\n",
       "      <td>1146.000000</td>\n",
       "      <td>28.000000</td>\n",
       "    </tr>\n",
       "    <tr>\n",
       "      <th>max</th>\n",
       "      <td>1534.000000</td>\n",
       "      <td>43.000000</td>\n",
       "    </tr>\n",
       "  </tbody>\n",
       "</table>\n",
       "</div>"
      ],
      "text/plain": [
       "           user_id          age\n",
       "count  1565.000000  1565.000000\n",
       "mean    762.633866    24.922045\n",
       "std     443.260155     4.553496\n",
       "min       1.000000    12.000000\n",
       "25%     378.000000    22.000000\n",
       "50%     762.000000    25.000000\n",
       "75%    1146.000000    28.000000\n",
       "max    1534.000000    43.000000"
      ]
     },
     "metadata": {},
     "output_type": "display_data"
    },
    {
     "name": "stdout",
     "output_type": "stream",
     "text": [
      "Информация таблицы о пользователях\n",
      "<class 'pandas.core.frame.DataFrame'>\n",
      "RangeIndex: 1565 entries, 0 to 1564\n",
      "Data columns (total 5 columns):\n",
      " #   Column             Non-Null Count  Dtype \n",
      "---  ------             --------------  ----- \n",
      " 0   user_id            1565 non-null   int64 \n",
      " 1   name               1565 non-null   object\n",
      " 2   age                1565 non-null   int64 \n",
      " 3   city               1565 non-null   object\n",
      " 4   subscription_type  1565 non-null   object\n",
      "dtypes: int64(2), object(3)\n",
      "memory usage: 61.3+ KB\n"
     ]
    },
    {
     "data": {
      "text/plain": [
       "None"
      ]
     },
     "metadata": {},
     "output_type": "display_data"
    },
    {
     "name": "stdout",
     "output_type": "stream",
     "text": [
      "Количество явных дубликатов в таблице о пользователях: 31\n",
      "Города в таблице о пользвотелях: ['Тюмень' 'Омск' 'Москва' 'Ростов-на-Дону' 'Краснодар' 'Пятигорск'\n",
      " 'Екатеринбург' 'Сочи']\n"
     ]
    }
   ],
   "source": [
    "#применим функцию description_info\n",
    "description_info(users_go,'о пользователях')\n",
    "\n",
    "print(f'Города в таблице о пользвотелях: {users_go.city.unique()}')"
   ]
  },
  {
   "cell_type": "code",
   "execution_count": 33,
   "id": "d12a744b",
   "metadata": {},
   "outputs": [
    {
     "name": "stdout",
     "output_type": "stream",
     "text": [
      "Количество явных дубликатов в таблице users_go: 0\n"
     ]
    }
   ],
   "source": [
    "#избавимся от дубликатов в таблице\n",
    "users_go = users_go.drop_duplicates()\n",
    "#проверим количество дубликатов\n",
    "print (f'Количество явных дубликатов в таблице users_go: {users_go.duplicated().sum()}')"
   ]
  },
  {
   "cell_type": "markdown",
   "id": "3ffc5f64",
   "metadata": {},
   "source": [
    "В таблице `users_go` нами были выявлены и успешно удалены 31 явный дубликат. "
   ]
  },
  {
   "cell_type": "markdown",
   "id": "9b33975b",
   "metadata": {},
   "source": [
    "### Таблица **rides_go**"
   ]
  },
  {
   "cell_type": "code",
   "execution_count": 34,
   "id": "191af38a",
   "metadata": {},
   "outputs": [
    {
     "name": "stdout",
     "output_type": "stream",
     "text": [
      "Описание таблицы о поездках\n"
     ]
    },
    {
     "data": {
      "text/html": [
       "<div>\n",
       "<style scoped>\n",
       "    .dataframe tbody tr th:only-of-type {\n",
       "        vertical-align: middle;\n",
       "    }\n",
       "\n",
       "    .dataframe tbody tr th {\n",
       "        vertical-align: top;\n",
       "    }\n",
       "\n",
       "    .dataframe thead th {\n",
       "        text-align: right;\n",
       "    }\n",
       "</style>\n",
       "<table border=\"1\" class=\"dataframe\">\n",
       "  <thead>\n",
       "    <tr style=\"text-align: right;\">\n",
       "      <th></th>\n",
       "      <th>user_id</th>\n",
       "      <th>distance</th>\n",
       "      <th>duration</th>\n",
       "      <th>date</th>\n",
       "    </tr>\n",
       "  </thead>\n",
       "  <tbody>\n",
       "    <tr>\n",
       "      <th>count</th>\n",
       "      <td>18068.000000</td>\n",
       "      <td>18068.000000</td>\n",
       "      <td>18068.000000</td>\n",
       "      <td>18068</td>\n",
       "    </tr>\n",
       "    <tr>\n",
       "      <th>mean</th>\n",
       "      <td>842.869936</td>\n",
       "      <td>3070.659976</td>\n",
       "      <td>17.805011</td>\n",
       "      <td>2021-06-30 19:47:21.266327296</td>\n",
       "    </tr>\n",
       "    <tr>\n",
       "      <th>min</th>\n",
       "      <td>1.000000</td>\n",
       "      <td>0.855683</td>\n",
       "      <td>0.500000</td>\n",
       "      <td>2021-01-01 00:00:00</td>\n",
       "    </tr>\n",
       "    <tr>\n",
       "      <th>25%</th>\n",
       "      <td>487.000000</td>\n",
       "      <td>2543.226360</td>\n",
       "      <td>13.597563</td>\n",
       "      <td>2021-04-02 00:00:00</td>\n",
       "    </tr>\n",
       "    <tr>\n",
       "      <th>50%</th>\n",
       "      <td>889.000000</td>\n",
       "      <td>3133.609994</td>\n",
       "      <td>17.678395</td>\n",
       "      <td>2021-06-30 00:00:00</td>\n",
       "    </tr>\n",
       "    <tr>\n",
       "      <th>75%</th>\n",
       "      <td>1213.250000</td>\n",
       "      <td>3776.222735</td>\n",
       "      <td>21.724800</td>\n",
       "      <td>2021-09-28 00:00:00</td>\n",
       "    </tr>\n",
       "    <tr>\n",
       "      <th>max</th>\n",
       "      <td>1534.000000</td>\n",
       "      <td>7211.007745</td>\n",
       "      <td>40.823963</td>\n",
       "      <td>2021-12-30 00:00:00</td>\n",
       "    </tr>\n",
       "    <tr>\n",
       "      <th>std</th>\n",
       "      <td>434.734317</td>\n",
       "      <td>1116.831209</td>\n",
       "      <td>6.091051</td>\n",
       "      <td>NaN</td>\n",
       "    </tr>\n",
       "  </tbody>\n",
       "</table>\n",
       "</div>"
      ],
      "text/plain": [
       "            user_id      distance      duration                           date\n",
       "count  18068.000000  18068.000000  18068.000000                          18068\n",
       "mean     842.869936   3070.659976     17.805011  2021-06-30 19:47:21.266327296\n",
       "min        1.000000      0.855683      0.500000            2021-01-01 00:00:00\n",
       "25%      487.000000   2543.226360     13.597563            2021-04-02 00:00:00\n",
       "50%      889.000000   3133.609994     17.678395            2021-06-30 00:00:00\n",
       "75%     1213.250000   3776.222735     21.724800            2021-09-28 00:00:00\n",
       "max     1534.000000   7211.007745     40.823963            2021-12-30 00:00:00\n",
       "std      434.734317   1116.831209      6.091051                            NaN"
      ]
     },
     "metadata": {},
     "output_type": "display_data"
    },
    {
     "name": "stdout",
     "output_type": "stream",
     "text": [
      "Информация таблицы о поездках\n",
      "<class 'pandas.core.frame.DataFrame'>\n",
      "RangeIndex: 18068 entries, 0 to 18067\n",
      "Data columns (total 4 columns):\n",
      " #   Column    Non-Null Count  Dtype         \n",
      "---  ------    --------------  -----         \n",
      " 0   user_id   18068 non-null  int64         \n",
      " 1   distance  18068 non-null  float64       \n",
      " 2   duration  18068 non-null  float64       \n",
      " 3   date      18068 non-null  datetime64[ns]\n",
      "dtypes: datetime64[ns](1), float64(2), int64(1)\n",
      "memory usage: 564.8 KB\n"
     ]
    },
    {
     "data": {
      "text/plain": [
       "None"
      ]
     },
     "metadata": {},
     "output_type": "display_data"
    },
    {
     "name": "stdout",
     "output_type": "stream",
     "text": [
      "Количество явных дубликатов в таблице о поездках: 0\n"
     ]
    }
   ],
   "source": [
    "#применим функцию description_info\n",
    "description_info(rides_go,'о поездках')"
   ]
  },
  {
   "cell_type": "code",
   "execution_count": 35,
   "id": "7f914d6e",
   "metadata": {},
   "outputs": [
    {
     "name": "stdout",
     "output_type": "stream",
     "text": [
      "Информация таблицы rides_go\n",
      "<class 'pandas.core.frame.DataFrame'>\n",
      "RangeIndex: 18068 entries, 0 to 18067\n",
      "Data columns (total 5 columns):\n",
      " #   Column    Non-Null Count  Dtype         \n",
      "---  ------    --------------  -----         \n",
      " 0   user_id   18068 non-null  int64         \n",
      " 1   distance  18068 non-null  int32         \n",
      " 2   duration  18068 non-null  int32         \n",
      " 3   date      18068 non-null  datetime64[ns]\n",
      " 4   month     18068 non-null  int32         \n",
      "dtypes: datetime64[ns](1), int32(3), int64(1)\n",
      "memory usage: 494.2 KB\n"
     ]
    },
    {
     "data": {
      "text/plain": [
       "None"
      ]
     },
     "metadata": {},
     "output_type": "display_data"
    }
   ],
   "source": [
    "#каждое значение из столбца duration округляется с помощью «потолка»: \n",
    "rides_go['duration'] = np.ceil(rides_go['duration']).astype('int')\n",
    "#изменим тип данных\n",
    "rides_go['distance'] = rides_go['distance'].astype('int')\n",
    "#добавим столбец с месяцами.\n",
    "rides_go['month'] = rides_go['date'].dt.month\n",
    "\n",
    "print ('Информация таблицы rides_go')\n",
    "display (rides_go.info())"
   ]
  },
  {
   "cell_type": "markdown",
   "id": "e787c6c8",
   "metadata": {},
   "source": [
    "В таблице `users_go`, значения в столбце `duration` были округлены в сторону увеличения до ближайшего целого числа, тип данных в столбце `distance` был изменен для обеспечения более точного представления информации, мы добавили новый столбец `month`, который содержит информацию о месяцах."
   ]
  },
  {
   "cell_type": "markdown",
   "id": "c9429faf",
   "metadata": {},
   "source": [
    "### Таблица **subscriptions_go**"
   ]
  },
  {
   "cell_type": "markdown",
   "id": "c33cc874",
   "metadata": {},
   "source": [
    "Таблица `subscriptions_go` не требует предобработки."
   ]
  },
  {
   "cell_type": "markdown",
   "id": "96922651",
   "metadata": {},
   "source": [
    "### **Вывод**"
   ]
  },
  {
   "cell_type": "markdown",
   "id": "15b041e7",
   "metadata": {},
   "source": [
    "В таблице `users_go` мы провели ряд значимых улучшений. Во-первых, нами были выявлены и успешно удалены 31 явный дубликат, что значительно повысило точность данных. Далее в таблице `rides_go`, значения в столбце `duration` были округлены в сторону увеличения до ближайшего целого числа, а тип данных в столбце `distance` был изменен для обеспечения более точного представления информации. Кроме того, мы добавили новый столбец `month`, содержащий информацию о месяцах, что позволит проводить более детальный временной анализ.\n",
    "\n",
    "Что касается таблицы `subscriptions_go`, она не требует дополнительной предобработки, так как данные в ней уже находятся в надлежащем состоянии для дальнейшего анализа."
   ]
  },
  {
   "cell_type": "markdown",
   "id": "21186d12",
   "metadata": {},
   "source": [
    "## **Исследовательский анализ данных**"
   ]
  },
  {
   "cell_type": "markdown",
   "id": "5653c041",
   "metadata": {},
   "source": [
    "Проведем иследовательский анализ данных"
   ]
  },
  {
   "cell_type": "markdown",
   "id": "c07d2384",
   "metadata": {},
   "source": [
    "### Частота встречаемости городов"
   ]
  },
  {
   "cell_type": "code",
   "execution_count": 36,
   "id": "b9cc00d9",
   "metadata": {},
   "outputs": [
    {
     "data": {
      "image/png": "[encoded data removed]",
      "text/plain": [
       "<Figure size 900x600 with 1 Axes>"
      ]
     },
     "metadata": {},
     "output_type": "display_data"
    },
    {
     "name": "stdout",
     "output_type": "stream",
     "text": [
      "Колличество пользовтаелей по городам\n",
      "city\n",
      "Пятигорск         219\n",
      "Екатеринбург      204\n",
      "Ростов-на-Дону    198\n",
      "Краснодар         193\n",
      "Сочи              189\n",
      "Омск              183\n",
      "Тюмень            180\n",
      "Москва            168\n",
      "Name: count, dtype: int64\n"
     ]
    }
   ],
   "source": [
    "#построем курговую диаграмму\n",
    "#(\n",
    "#    users_go['city']\n",
    "#    .value_counts()\n",
    "#    .plot(kind='pie',  autopct='%1.1f%%', figsize=(9,6))\n",
    "#)\n",
    "#plt.title('Колличество пользовтаелей по городам')\n",
    "#plt.show()\n",
    "\n",
    "#построем накопительную диаграмму\n",
    "(\n",
    "    users_go['city']\n",
    "    .value_counts()\n",
    "    .plot(kind='bar', figsize=(9,6))\n",
    ")\n",
    "plt.title('Колличество пользовтаелей по городам')\n",
    "plt.xlabel('Нименование городов')\n",
    "plt.ylabel('Количество городов')\n",
    "plt.show()\n",
    "\n",
    "\n",
    "print ('Колличество пользовтаелей по городам')\n",
    "print (users_go['city'].value_counts())"
   ]
  },
  {
   "cell_type": "markdown",
   "id": "e62a9ddc",
   "metadata": {},
   "source": [
    "Построенная круговая диаграмма, позволяет сделать промежуточный вывод о том, что наибольшее количество пользователей сосредоточено в городе Пятигорск. Этот визуальный инструмент наглядно демонстрирует распределение пользователей по различным городам, и **Пятигорск (14.3%)** явно выделяется на общем фоне."
   ]
  },
  {
   "cell_type": "markdown",
   "id": "0661d184",
   "metadata": {},
   "source": [
    "### Соотношение пользователей с подпиской и без подписки"
   ]
  },
  {
   "cell_type": "code",
   "execution_count": 37,
   "id": "6a56ab49",
   "metadata": {},
   "outputs": [
    {
     "data": {
      "image/png": "[encoded data removed]",
      "text/plain": [
       "<Figure size 900x600 with 1 Axes>"
      ]
     },
     "metadata": {},
     "output_type": "display_data"
    },
    {
     "name": "stdout",
     "output_type": "stream",
     "text": [
      "Соотношение пользователей с подпиской и без подписки\n",
      "subscription_type\n",
      "free     835\n",
      "ultra    699\n",
      "Name: count, dtype: int64\n"
     ]
    }
   ],
   "source": [
    "#построем курговую диаграмму\n",
    "(\n",
    "    users_go['subscription_type']\n",
    "    .value_counts()\n",
    "    .plot(kind='pie',  autopct='%1.1f%%', figsize=(9,6))\n",
    ")\n",
    "plt.title('Соотношение пользователей с подпиской и без подписки')\n",
    "plt.show()\n",
    "\n",
    "print ('Соотношение пользователей с подпиской и без подписки')\n",
    "print (users_go['subscription_type'].value_counts())"
   ]
  },
  {
   "cell_type": "markdown",
   "id": "0d600850",
   "metadata": {},
   "source": [
    "Построенная круговая диаграмма, позволяет сделать промежуточный вывод о том, что число пользователей без подписки значительно превосходит количество пользователей с подпиской."
   ]
  },
  {
   "cell_type": "markdown",
   "id": "15d03ae5",
   "metadata": {},
   "source": [
    "### Возраст пользователей"
   ]
  },
  {
   "cell_type": "code",
   "execution_count": 38,
   "id": "932d5093",
   "metadata": {},
   "outputs": [
    {
     "data": {
      "image/png": "[encoded data removed]",
      "text/plain": [
       "<Figure size 900x600 with 1 Axes>"
      ]
     },
     "metadata": {},
     "output_type": "display_data"
    },
    {
     "name": "stdout",
     "output_type": "stream",
     "text": [
      "Описание возрастов пользоватлей\n"
     ]
    },
    {
     "data": {
      "text/plain": [
       "count    1534.000000\n",
       "mean       24.903520\n",
       "std         4.572367\n",
       "min        12.000000\n",
       "25%        22.000000\n",
       "50%        25.000000\n",
       "75%        28.000000\n",
       "max        43.000000\n",
       "Name: age, dtype: float64"
      ]
     },
     "metadata": {},
     "output_type": "display_data"
    }
   ],
   "source": [
    "#построем накопительную диаграмму\n",
    "(\n",
    "    users_go['age']\n",
    "    .value_counts()\n",
    "    .plot(kind='bar', grid=True, figsize=(9,6))\n",
    ")\n",
    "plt.title('Возраст пользователей')\n",
    "plt.ylabel('Количество пользователей')\n",
    "plt.xlabel('Возраст')\n",
    "plt.show()\n",
    "\n",
    "print('Описание возрастов пользоватлей')\n",
    "display(users_go['age'].describe())"
   ]
  },
  {
   "cell_type": "markdown",
   "id": "d027b3a1",
   "metadata": {},
   "source": [
    "Анализ гистограммы с накоплением позволяет сделать несколько промежуточных выводов о возрастной структуре пользователей. Прежде всего, очевидно, что **наибольшее количество пользователей в возрастной категории 25 лет**. Кроме того, гистограмма показывает, что **самый молодой пользователь сервиса в возрасте 12 лет**, а **самый взрослый - 43 года**. **Средний возраст пользователей составляет 24 года**, что дает нам представление о демографическом профиле нашей аудитории."
   ]
  },
  {
   "cell_type": "markdown",
   "id": "f1836cf4",
   "metadata": {},
   "source": [
    "### Расстояние, которое пользователь преодолел за одну поездку"
   ]
  },
  {
   "cell_type": "code",
   "execution_count": 39,
   "id": "eb448c21",
   "metadata": {},
   "outputs": [
    {
     "data": {
      "image/png": "[encoded data removed]",
      "text/plain": [
       "<Figure size 640x480 with 1 Axes>"
      ]
     },
     "metadata": {},
     "output_type": "display_data"
    },
    {
     "name": "stdout",
     "output_type": "stream",
     "text": [
      "Описание расстояния поездок пользоватлей\n"
     ]
    },
    {
     "data": {
      "text/plain": [
       "count    18068.000000\n",
       "mean      3070.159841\n",
       "std       1116.831548\n",
       "min          0.000000\n",
       "25%       2542.750000\n",
       "50%       3133.000000\n",
       "75%       3776.000000\n",
       "max       7211.000000\n",
       "Name: distance, dtype: float64"
      ]
     },
     "metadata": {},
     "output_type": "display_data"
    }
   ],
   "source": [
    "'''\n",
    "rides_go.plot(\n",
    "    y=['distance'],\n",
    "    kind = 'box',\n",
    "    ylabel = 'Общее количество этажей в доме', \n",
    "    figsize=(9,6),\n",
    "    grid=True\n",
    ");\n",
    "plt.show()\n",
    "'''\n",
    "#построем гисторгамму\n",
    "plt.hist(rides_go['distance'], bins=100)\n",
    "plt.title('Количество поездок в зависимости от расстояния')\n",
    "plt.xlabel('Расстояние в метрах')\n",
    "plt.ylabel('Количество поездок')\n",
    "plt.show()\n",
    "\n",
    "print('Описание расстояния поездок пользоватлей')\n",
    "display(rides_go['distance'].describe())"
   ]
  },
  {
   "cell_type": "markdown",
   "id": "30ce1d03",
   "metadata": {},
   "source": [
    "Анализ гистограммы позволяет сделать промежуточный вывод о характере перемещений пользователей. **Основная масса пользователей преодолевает расстояния в диапазоне от 2500 до 3500 метров**. В то же время, максимальное зафиксированное расстояние, которое пользователи преодолевали, составляет 7200 метров. "
   ]
  },
  {
   "cell_type": "markdown",
   "id": "5b8cad14",
   "metadata": {},
   "source": [
    "### Продолжительность поездок"
   ]
  },
  {
   "cell_type": "code",
   "execution_count": 40,
   "id": "43a33fb2",
   "metadata": {},
   "outputs": [
    {
     "data": {
      "image/png": "[encoded data removed]",
      "text/plain": [
       "<Figure size 640x480 with 1 Axes>"
      ]
     },
     "metadata": {},
     "output_type": "display_data"
    },
    {
     "name": "stdout",
     "output_type": "stream",
     "text": [
      "Описание продолжительности поездок пользоватлей\n"
     ]
    },
    {
     "data": {
      "text/plain": [
       "count    18068.000000\n",
       "mean        18.303520\n",
       "std          6.094928\n",
       "min          1.000000\n",
       "25%         14.000000\n",
       "50%         18.000000\n",
       "75%         22.000000\n",
       "max         41.000000\n",
       "Name: duration, dtype: float64"
      ]
     },
     "metadata": {},
     "output_type": "display_data"
    }
   ],
   "source": [
    "'''\n",
    "rides_go.plot(\n",
    "    y=['duration'],\n",
    "    kind = 'box',\n",
    "    ylabel = 'Общее количество этажей в доме', \n",
    "    figsize=(9,6),\n",
    "    grid=True\n",
    ");\n",
    "plt.show()\n",
    "'''\n",
    "#построем гисторгамму\n",
    "plt.hist(rides_go['duration'], bins=40)\n",
    "plt.title('Количество поездок в зависимости от продолжительности')\n",
    "plt.xlabel('Продолжительность поездки')\n",
    "plt.ylabel('Количество поездок')\n",
    "plt.show()\n",
    "\n",
    "print('Описание продолжительности поездок пользоватлей')\n",
    "display(rides_go['duration'].describe())"
   ]
  },
  {
   "cell_type": "markdown",
   "id": "1aafce7e",
   "metadata": {},
   "source": [
    "Анализ гистограммы позволяет сделать промежуточный вывод о продолжительности поездок пользователей. **В основном, продолжительность поездок составляет от 15 до 22 минут**, при этом **среднее время поездки составляет 18 минут**. Этот визуальный инструмент наглядно демонстрирует основные временные рамки перемещений пользователей, что помогает лучше понять их повседневные привычки и поведение."
   ]
  },
  {
   "cell_type": "markdown",
   "id": "2c5cd2ca",
   "metadata": {},
   "source": [
    "### **Вывод**"
   ]
  },
  {
   "cell_type": "markdown",
   "id": "396e3bf5",
   "metadata": {},
   "source": [
    "На основе проведенного анализа визуализированных данных, можно сформулировать обобщенный вывод: в городе Пятигорск наблюдается наибольшая концентрация пользователей, что указывает на его ключевую роль в географическом распределении аудитории. Большинство пользователей предпочитают использовать сервис без оформления подписки, что свидетельствует о популярности гибких моделей потребления. Возрастная структура пользователей демонстрирует пик активности в возрастной категории 25 лет, со средним возрастом в 24 года, характеризуя аудиторию как относительно молодую. Пользователи в основном совершают поездки на расстояния от 2500 до 3500 метров, со средним временем поездки в 18 минут, что отражает типичные повседневные перемещения и указывает на эффективность сервиса в удовлетворении этих потребностей.\n",
    "\n",
    "Таким образом, полученные данные позволяют нам лучше понять демографические особенности, предпочтения и поведение пользователей, предоставляя ценные инсайты для дальнейшего развития и оптимизации сервиса."
   ]
  },
  {
   "cell_type": "markdown",
   "id": "39b6b806",
   "metadata": {},
   "source": [
    "## **Объединение данных**"
   ]
  },
  {
   "cell_type": "markdown",
   "id": "64a8f4f5",
   "metadata": {},
   "source": [
    "### **Объедините данные о пользователях**"
   ]
  },
  {
   "cell_type": "code",
   "execution_count": 41,
   "id": "81d5b4d7",
   "metadata": {},
   "outputs": [
    {
     "name": "stdout",
     "output_type": "stream",
     "text": [
      "Объединение таблиц прошло успешно\n"
     ]
    },
    {
     "data": {
      "text/html": [
       "<div>\n",
       "<style scoped>\n",
       "    .dataframe tbody tr th:only-of-type {\n",
       "        vertical-align: middle;\n",
       "    }\n",
       "\n",
       "    .dataframe tbody tr th {\n",
       "        vertical-align: top;\n",
       "    }\n",
       "\n",
       "    .dataframe thead th {\n",
       "        text-align: right;\n",
       "    }\n",
       "</style>\n",
       "<table border=\"1\" class=\"dataframe\">\n",
       "  <thead>\n",
       "    <tr style=\"text-align: right;\">\n",
       "      <th></th>\n",
       "      <th>user_id</th>\n",
       "      <th>name</th>\n",
       "      <th>age</th>\n",
       "      <th>city</th>\n",
       "      <th>subscription_type</th>\n",
       "      <th>distance</th>\n",
       "      <th>duration</th>\n",
       "      <th>date</th>\n",
       "      <th>month</th>\n",
       "      <th>minute_price</th>\n",
       "      <th>start_ride_price</th>\n",
       "      <th>subscription_fee</th>\n",
       "    </tr>\n",
       "  </thead>\n",
       "  <tbody>\n",
       "    <tr>\n",
       "      <th>18028</th>\n",
       "      <td>1531</td>\n",
       "      <td>Никита</td>\n",
       "      <td>25</td>\n",
       "      <td>Пятигорск</td>\n",
       "      <td>free</td>\n",
       "      <td>3760</td>\n",
       "      <td>21</td>\n",
       "      <td>2021-11-26</td>\n",
       "      <td>11</td>\n",
       "      <td>8</td>\n",
       "      <td>50</td>\n",
       "      <td>0</td>\n",
       "    </tr>\n",
       "    <tr>\n",
       "      <th>1779</th>\n",
       "      <td>193</td>\n",
       "      <td>Регина</td>\n",
       "      <td>30</td>\n",
       "      <td>Сочи</td>\n",
       "      <td>ultra</td>\n",
       "      <td>2687</td>\n",
       "      <td>11</td>\n",
       "      <td>2021-05-31</td>\n",
       "      <td>5</td>\n",
       "      <td>6</td>\n",
       "      <td>0</td>\n",
       "      <td>199</td>\n",
       "    </tr>\n",
       "    <tr>\n",
       "      <th>16307</th>\n",
       "      <td>1411</td>\n",
       "      <td>Александр</td>\n",
       "      <td>20</td>\n",
       "      <td>Пятигорск</td>\n",
       "      <td>free</td>\n",
       "      <td>5000</td>\n",
       "      <td>18</td>\n",
       "      <td>2021-03-09</td>\n",
       "      <td>3</td>\n",
       "      <td>8</td>\n",
       "      <td>50</td>\n",
       "      <td>0</td>\n",
       "    </tr>\n",
       "    <tr>\n",
       "      <th>8186</th>\n",
       "      <td>825</td>\n",
       "      <td>Борис</td>\n",
       "      <td>27</td>\n",
       "      <td>Сочи</td>\n",
       "      <td>free</td>\n",
       "      <td>2625</td>\n",
       "      <td>20</td>\n",
       "      <td>2021-05-18</td>\n",
       "      <td>5</td>\n",
       "      <td>8</td>\n",
       "      <td>50</td>\n",
       "      <td>0</td>\n",
       "    </tr>\n",
       "    <tr>\n",
       "      <th>9301</th>\n",
       "      <td>909</td>\n",
       "      <td>Константин</td>\n",
       "      <td>20</td>\n",
       "      <td>Екатеринбург</td>\n",
       "      <td>free</td>\n",
       "      <td>3120</td>\n",
       "      <td>17</td>\n",
       "      <td>2021-01-31</td>\n",
       "      <td>1</td>\n",
       "      <td>8</td>\n",
       "      <td>50</td>\n",
       "      <td>0</td>\n",
       "    </tr>\n",
       "  </tbody>\n",
       "</table>\n",
       "</div>"
      ],
      "text/plain": [
       "       user_id        name  age          city subscription_type  distance  \\\n",
       "18028     1531      Никита   25     Пятигорск              free      3760   \n",
       "1779       193      Регина   30          Сочи             ultra      2687   \n",
       "16307     1411   Александр   20     Пятигорск              free      5000   \n",
       "8186       825       Борис   27          Сочи              free      2625   \n",
       "9301       909  Константин   20  Екатеринбург              free      3120   \n",
       "\n",
       "       duration       date  month  minute_price  start_ride_price  \\\n",
       "18028        21 2021-11-26     11             8                50   \n",
       "1779         11 2021-05-31      5             6                 0   \n",
       "16307        18 2021-03-09      3             8                50   \n",
       "8186         20 2021-05-18      5             8                50   \n",
       "9301         17 2021-01-31      1             8                50   \n",
       "\n",
       "       subscription_fee  \n",
       "18028                 0  \n",
       "1779                199  \n",
       "16307                 0  \n",
       "8186                  0  \n",
       "9301                  0  "
      ]
     },
     "metadata": {},
     "output_type": "display_data"
    }
   ],
   "source": [
    "#создадим таблицу general_data\n",
    "#объединим таблицы \n",
    "general_data = users_go.merge(rides_go, on='user_id').merge(subscriptions_go, on='subscription_type')\n",
    "\n",
    "#general_data = general_data.merge(subscriptions_go, on='subscription_type')\n",
    "\n",
    "if len(general_data) == len(rides_go):\n",
    "    if general_data.duplicated().sum() > 0:\n",
    "        print(f'Объединение таблиц прошло успешно, но возникли дубликаты ({general_data.duplicated().sum()})')\n",
    "        general_data = general_data.drop_duplicates()\n",
    "        print('Дубликаты успешно удалены!')\n",
    "    else:\n",
    "        print('Объединение таблиц прошло успешно')\n",
    "elif len(general_data) != len(rides_go) + len(users_go) + len(subscriptions_go):\n",
    "    print('Объединение таблиц прошло неправильно!')\n",
    "#выведим новую таблицу\n",
    "display(general_data.sample(5))"
   ]
  },
  {
   "cell_type": "markdown",
   "id": "179aa537",
   "metadata": {},
   "source": [
    "Объеденили таблицы о пользотвалеях (users_go), о поездках (rides_go) и о подписках (subscriptions_go) в общую таблицу **general_data**."
   ]
  },
  {
   "cell_type": "markdown",
   "id": "dcfbfff7",
   "metadata": {},
   "source": [
    "### **Создание новых датафреймов**"
   ]
  },
  {
   "cell_type": "code",
   "execution_count": 42,
   "id": "2ff8f089",
   "metadata": {},
   "outputs": [
    {
     "name": "stdout",
     "output_type": "stream",
     "text": [
      "Таблица поездок без подписки\n"
     ]
    },
    {
     "data": {
      "text/html": [
       "<div>\n",
       "<style scoped>\n",
       "    .dataframe tbody tr th:only-of-type {\n",
       "        vertical-align: middle;\n",
       "    }\n",
       "\n",
       "    .dataframe tbody tr th {\n",
       "        vertical-align: top;\n",
       "    }\n",
       "\n",
       "    .dataframe thead th {\n",
       "        text-align: right;\n",
       "    }\n",
       "</style>\n",
       "<table border=\"1\" class=\"dataframe\">\n",
       "  <thead>\n",
       "    <tr style=\"text-align: right;\">\n",
       "      <th></th>\n",
       "      <th>user_id</th>\n",
       "      <th>name</th>\n",
       "      <th>age</th>\n",
       "      <th>city</th>\n",
       "      <th>subscription_type</th>\n",
       "      <th>distance</th>\n",
       "      <th>duration</th>\n",
       "      <th>date</th>\n",
       "      <th>month</th>\n",
       "      <th>minute_price</th>\n",
       "      <th>start_ride_price</th>\n",
       "      <th>subscription_fee</th>\n",
       "    </tr>\n",
       "  </thead>\n",
       "  <tbody>\n",
       "    <tr>\n",
       "      <th>17416</th>\n",
       "      <td>1489</td>\n",
       "      <td>Алёна</td>\n",
       "      <td>30</td>\n",
       "      <td>Пятигорск</td>\n",
       "      <td>free</td>\n",
       "      <td>3490</td>\n",
       "      <td>22</td>\n",
       "      <td>2021-12-20</td>\n",
       "      <td>12</td>\n",
       "      <td>8</td>\n",
       "      <td>50</td>\n",
       "      <td>0</td>\n",
       "    </tr>\n",
       "    <tr>\n",
       "      <th>13512</th>\n",
       "      <td>1211</td>\n",
       "      <td>София</td>\n",
       "      <td>24</td>\n",
       "      <td>Ростов-на-Дону</td>\n",
       "      <td>free</td>\n",
       "      <td>2952</td>\n",
       "      <td>12</td>\n",
       "      <td>2021-10-16</td>\n",
       "      <td>10</td>\n",
       "      <td>8</td>\n",
       "      <td>50</td>\n",
       "      <td>0</td>\n",
       "    </tr>\n",
       "    <tr>\n",
       "      <th>9553</th>\n",
       "      <td>926</td>\n",
       "      <td>Кира</td>\n",
       "      <td>24</td>\n",
       "      <td>Краснодар</td>\n",
       "      <td>free</td>\n",
       "      <td>419</td>\n",
       "      <td>13</td>\n",
       "      <td>2021-07-26</td>\n",
       "      <td>7</td>\n",
       "      <td>8</td>\n",
       "      <td>50</td>\n",
       "      <td>0</td>\n",
       "    </tr>\n",
       "    <tr>\n",
       "      <th>7116</th>\n",
       "      <td>742</td>\n",
       "      <td>Святогор</td>\n",
       "      <td>28</td>\n",
       "      <td>Сочи</td>\n",
       "      <td>free</td>\n",
       "      <td>206</td>\n",
       "      <td>11</td>\n",
       "      <td>2021-03-13</td>\n",
       "      <td>3</td>\n",
       "      <td>8</td>\n",
       "      <td>50</td>\n",
       "      <td>0</td>\n",
       "    </tr>\n",
       "    <tr>\n",
       "      <th>17347</th>\n",
       "      <td>1485</td>\n",
       "      <td>Дамир</td>\n",
       "      <td>20</td>\n",
       "      <td>Тюмень</td>\n",
       "      <td>free</td>\n",
       "      <td>2549</td>\n",
       "      <td>16</td>\n",
       "      <td>2021-05-29</td>\n",
       "      <td>5</td>\n",
       "      <td>8</td>\n",
       "      <td>50</td>\n",
       "      <td>0</td>\n",
       "    </tr>\n",
       "  </tbody>\n",
       "</table>\n",
       "</div>"
      ],
      "text/plain": [
       "       user_id      name  age            city subscription_type  distance  \\\n",
       "17416     1489     Алёна   30       Пятигорск              free      3490   \n",
       "13512     1211     София   24  Ростов-на-Дону              free      2952   \n",
       "9553       926      Кира   24       Краснодар              free       419   \n",
       "7116       742  Святогор   28            Сочи              free       206   \n",
       "17347     1485     Дамир   20          Тюмень              free      2549   \n",
       "\n",
       "       duration       date  month  minute_price  start_ride_price  \\\n",
       "17416        22 2021-12-20     12             8                50   \n",
       "13512        12 2021-10-16     10             8                50   \n",
       "9553         13 2021-07-26      7             8                50   \n",
       "7116         11 2021-03-13      3             8                50   \n",
       "17347        16 2021-05-29      5             8                50   \n",
       "\n",
       "       subscription_fee  \n",
       "17416                 0  \n",
       "13512                 0  \n",
       "9553                  0  \n",
       "7116                  0  \n",
       "17347                 0  "
      ]
     },
     "metadata": {},
     "output_type": "display_data"
    },
    {
     "data": {
      "text/html": [
       "<div>\n",
       "<style scoped>\n",
       "    .dataframe tbody tr th:only-of-type {\n",
       "        vertical-align: middle;\n",
       "    }\n",
       "\n",
       "    .dataframe tbody tr th {\n",
       "        vertical-align: top;\n",
       "    }\n",
       "\n",
       "    .dataframe thead th {\n",
       "        text-align: right;\n",
       "    }\n",
       "</style>\n",
       "<table border=\"1\" class=\"dataframe\">\n",
       "  <thead>\n",
       "    <tr style=\"text-align: right;\">\n",
       "      <th></th>\n",
       "      <th>distance</th>\n",
       "      <th>duration</th>\n",
       "    </tr>\n",
       "  </thead>\n",
       "  <tbody>\n",
       "    <tr>\n",
       "      <th>count</th>\n",
       "      <td>11568.000000</td>\n",
       "      <td>11568.000000</td>\n",
       "    </tr>\n",
       "    <tr>\n",
       "      <th>mean</th>\n",
       "      <td>3044.992911</td>\n",
       "      <td>17.890992</td>\n",
       "    </tr>\n",
       "    <tr>\n",
       "      <th>std</th>\n",
       "      <td>1246.174341</td>\n",
       "      <td>6.330250</td>\n",
       "    </tr>\n",
       "    <tr>\n",
       "      <th>min</th>\n",
       "      <td>0.000000</td>\n",
       "      <td>1.000000</td>\n",
       "    </tr>\n",
       "    <tr>\n",
       "      <th>25%</th>\n",
       "      <td>2366.000000</td>\n",
       "      <td>13.000000</td>\n",
       "    </tr>\n",
       "    <tr>\n",
       "      <th>50%</th>\n",
       "      <td>3114.000000</td>\n",
       "      <td>18.000000</td>\n",
       "    </tr>\n",
       "    <tr>\n",
       "      <th>75%</th>\n",
       "      <td>3905.000000</td>\n",
       "      <td>22.000000</td>\n",
       "    </tr>\n",
       "    <tr>\n",
       "      <th>max</th>\n",
       "      <td>7211.000000</td>\n",
       "      <td>35.000000</td>\n",
       "    </tr>\n",
       "  </tbody>\n",
       "</table>\n",
       "</div>"
      ],
      "text/plain": [
       "           distance      duration\n",
       "count  11568.000000  11568.000000\n",
       "mean    3044.992911     17.890992\n",
       "std     1246.174341      6.330250\n",
       "min        0.000000      1.000000\n",
       "25%     2366.000000     13.000000\n",
       "50%     3114.000000     18.000000\n",
       "75%     3905.000000     22.000000\n",
       "max     7211.000000     35.000000"
      ]
     },
     "metadata": {},
     "output_type": "display_data"
    }
   ],
   "source": [
    "#отфильтруем таблицу \n",
    "gen_data_fr_subs = general_data.query('subscription_type == \"free\"')\n",
    "print('Таблица поездок без подписки')\n",
    "display(gen_data_fr_subs.sample(5))\n",
    "'''\n",
    "#посторим гисторграмму\n",
    "plt.hist(gen_data_fr_subs['distance'], bins=100)\n",
    "plt.title('Количество поездок в зависимости от расстояния, без подписки')\n",
    "plt.xlabel('Расстояние в метрах')\n",
    "plt.ylabel('Количество поездок')\n",
    "plt.show()\n",
    "#посторим гисторграмму\n",
    "plt.hist(gen_data_fr_subs['duration'], bins=35)\n",
    "plt.title('Количество поездок в зависимости от продолжительности, без подписки')\n",
    "plt.xlabel('Продолжительность поездки')\n",
    "plt.ylabel('Количество поездок')\n",
    "plt.show()\n",
    "'''\n",
    "display(gen_data_fr_subs[['distance','duration']].describe())"
   ]
  },
  {
   "cell_type": "code",
   "execution_count": 43,
   "id": "1c21de78",
   "metadata": {},
   "outputs": [
    {
     "name": "stdout",
     "output_type": "stream",
     "text": [
      "Таблица поездок с подпиской\n"
     ]
    },
    {
     "data": {
      "text/html": [
       "<div>\n",
       "<style scoped>\n",
       "    .dataframe tbody tr th:only-of-type {\n",
       "        vertical-align: middle;\n",
       "    }\n",
       "\n",
       "    .dataframe tbody tr th {\n",
       "        vertical-align: top;\n",
       "    }\n",
       "\n",
       "    .dataframe thead th {\n",
       "        text-align: right;\n",
       "    }\n",
       "</style>\n",
       "<table border=\"1\" class=\"dataframe\">\n",
       "  <thead>\n",
       "    <tr style=\"text-align: right;\">\n",
       "      <th></th>\n",
       "      <th>user_id</th>\n",
       "      <th>name</th>\n",
       "      <th>age</th>\n",
       "      <th>city</th>\n",
       "      <th>subscription_type</th>\n",
       "      <th>distance</th>\n",
       "      <th>duration</th>\n",
       "      <th>date</th>\n",
       "      <th>month</th>\n",
       "      <th>minute_price</th>\n",
       "      <th>start_ride_price</th>\n",
       "      <th>subscription_fee</th>\n",
       "    </tr>\n",
       "  </thead>\n",
       "  <tbody>\n",
       "    <tr>\n",
       "      <th>3246</th>\n",
       "      <td>351</td>\n",
       "      <td>Владислава</td>\n",
       "      <td>18</td>\n",
       "      <td>Москва</td>\n",
       "      <td>ultra</td>\n",
       "      <td>4071</td>\n",
       "      <td>25</td>\n",
       "      <td>2021-06-15</td>\n",
       "      <td>6</td>\n",
       "      <td>6</td>\n",
       "      <td>0</td>\n",
       "      <td>199</td>\n",
       "    </tr>\n",
       "    <tr>\n",
       "      <th>5254</th>\n",
       "      <td>564</td>\n",
       "      <td>Ника</td>\n",
       "      <td>31</td>\n",
       "      <td>Тюмень</td>\n",
       "      <td>ultra</td>\n",
       "      <td>2984</td>\n",
       "      <td>11</td>\n",
       "      <td>2021-08-10</td>\n",
       "      <td>8</td>\n",
       "      <td>6</td>\n",
       "      <td>0</td>\n",
       "      <td>199</td>\n",
       "    </tr>\n",
       "    <tr>\n",
       "      <th>6484</th>\n",
       "      <td>698</td>\n",
       "      <td>Егор</td>\n",
       "      <td>26</td>\n",
       "      <td>Пятигорск</td>\n",
       "      <td>ultra</td>\n",
       "      <td>3426</td>\n",
       "      <td>21</td>\n",
       "      <td>2021-01-29</td>\n",
       "      <td>1</td>\n",
       "      <td>6</td>\n",
       "      <td>0</td>\n",
       "      <td>199</td>\n",
       "    </tr>\n",
       "    <tr>\n",
       "      <th>2940</th>\n",
       "      <td>314</td>\n",
       "      <td>Святогор</td>\n",
       "      <td>28</td>\n",
       "      <td>Екатеринбург</td>\n",
       "      <td>ultra</td>\n",
       "      <td>2904</td>\n",
       "      <td>19</td>\n",
       "      <td>2021-08-17</td>\n",
       "      <td>8</td>\n",
       "      <td>6</td>\n",
       "      <td>0</td>\n",
       "      <td>199</td>\n",
       "    </tr>\n",
       "    <tr>\n",
       "      <th>4266</th>\n",
       "      <td>459</td>\n",
       "      <td>Элина</td>\n",
       "      <td>23</td>\n",
       "      <td>Москва</td>\n",
       "      <td>ultra</td>\n",
       "      <td>2302</td>\n",
       "      <td>17</td>\n",
       "      <td>2021-08-01</td>\n",
       "      <td>8</td>\n",
       "      <td>6</td>\n",
       "      <td>0</td>\n",
       "      <td>199</td>\n",
       "    </tr>\n",
       "  </tbody>\n",
       "</table>\n",
       "</div>"
      ],
      "text/plain": [
       "      user_id        name  age          city subscription_type  distance  \\\n",
       "3246      351  Владислава   18        Москва             ultra      4071   \n",
       "5254      564        Ника   31        Тюмень             ultra      2984   \n",
       "6484      698        Егор   26     Пятигорск             ultra      3426   \n",
       "2940      314    Святогор   28  Екатеринбург             ultra      2904   \n",
       "4266      459       Элина   23        Москва             ultra      2302   \n",
       "\n",
       "      duration       date  month  minute_price  start_ride_price  \\\n",
       "3246        25 2021-06-15      6             6                 0   \n",
       "5254        11 2021-08-10      8             6                 0   \n",
       "6484        21 2021-01-29      1             6                 0   \n",
       "2940        19 2021-08-17      8             6                 0   \n",
       "4266        17 2021-08-01      8             6                 0   \n",
       "\n",
       "      subscription_fee  \n",
       "3246               199  \n",
       "5254               199  \n",
       "6484               199  \n",
       "2940               199  \n",
       "4266               199  "
      ]
     },
     "metadata": {},
     "output_type": "display_data"
    },
    {
     "data": {
      "text/html": [
       "<div>\n",
       "<style scoped>\n",
       "    .dataframe tbody tr th:only-of-type {\n",
       "        vertical-align: middle;\n",
       "    }\n",
       "\n",
       "    .dataframe tbody tr th {\n",
       "        vertical-align: top;\n",
       "    }\n",
       "\n",
       "    .dataframe thead th {\n",
       "        text-align: right;\n",
       "    }\n",
       "</style>\n",
       "<table border=\"1\" class=\"dataframe\">\n",
       "  <thead>\n",
       "    <tr style=\"text-align: right;\">\n",
       "      <th></th>\n",
       "      <th>distance</th>\n",
       "      <th>duration</th>\n",
       "    </tr>\n",
       "  </thead>\n",
       "  <tbody>\n",
       "    <tr>\n",
       "      <th>count</th>\n",
       "      <td>6500.000000</td>\n",
       "      <td>6500.000000</td>\n",
       "    </tr>\n",
       "    <tr>\n",
       "      <th>mean</th>\n",
       "      <td>3114.949231</td>\n",
       "      <td>19.037692</td>\n",
       "    </tr>\n",
       "    <tr>\n",
       "      <th>std</th>\n",
       "      <td>836.894838</td>\n",
       "      <td>5.577439</td>\n",
       "    </tr>\n",
       "    <tr>\n",
       "      <th>min</th>\n",
       "      <td>244.000000</td>\n",
       "      <td>4.000000</td>\n",
       "    </tr>\n",
       "    <tr>\n",
       "      <th>25%</th>\n",
       "      <td>2785.000000</td>\n",
       "      <td>15.000000</td>\n",
       "    </tr>\n",
       "    <tr>\n",
       "      <th>50%</th>\n",
       "      <td>3148.000000</td>\n",
       "      <td>19.000000</td>\n",
       "    </tr>\n",
       "    <tr>\n",
       "      <th>75%</th>\n",
       "      <td>3560.000000</td>\n",
       "      <td>22.000000</td>\n",
       "    </tr>\n",
       "    <tr>\n",
       "      <th>max</th>\n",
       "      <td>5699.000000</td>\n",
       "      <td>41.000000</td>\n",
       "    </tr>\n",
       "  </tbody>\n",
       "</table>\n",
       "</div>"
      ],
      "text/plain": [
       "          distance     duration\n",
       "count  6500.000000  6500.000000\n",
       "mean   3114.949231    19.037692\n",
       "std     836.894838     5.577439\n",
       "min     244.000000     4.000000\n",
       "25%    2785.000000    15.000000\n",
       "50%    3148.000000    19.000000\n",
       "75%    3560.000000    22.000000\n",
       "max    5699.000000    41.000000"
      ]
     },
     "metadata": {},
     "output_type": "display_data"
    }
   ],
   "source": [
    "#отфильтруем таблицу \n",
    "gen_data_ult_subs = general_data.query('subscription_type == \"ultra\"')\n",
    "print('Таблица поездок с подпиской')\n",
    "display(gen_data_ult_subs.sample(5))\n",
    "'''\n",
    "#посторим гисторграмму\n",
    "plt.hist(gen_data_ult_subs['distance'], bins=100)\n",
    "plt.title('Количество поездок в зависимости от расстояния, с подпиской')\n",
    "plt.xlabel('Расстояние в метрах')\n",
    "plt.ylabel('Количество поездок')\n",
    "plt.show()\n",
    "#посторим гисторграмму\n",
    "plt.hist(gen_data_ult_subs['duration'], bins=38)\n",
    "plt.title('Количество поездок в зависимости от продолжительности, с подпиской')\n",
    "plt.xlabel('Продолжительность поездки')\n",
    "plt.ylabel('Количество поездок')\n",
    "plt.show()\n",
    "'''\n",
    "display(gen_data_ult_subs[['distance','duration']].describe())\n"
   ]
  },
  {
   "cell_type": "markdown",
   "id": "d639f077",
   "metadata": {},
   "source": [
    "**Визуализируем информацию о расстоянии и времени поездок для пользователей обеих категорий**"
   ]
  },
  {
   "cell_type": "code",
   "execution_count": 44,
   "id": "6f333422",
   "metadata": {},
   "outputs": [
    {
     "data": {
      "image/png": "[encoded data removed]",
      "text/plain": [
       "<Figure size 640x480 with 1 Axes>"
      ]
     },
     "metadata": {},
     "output_type": "display_data"
    },
    {
     "data": {
      "image/png": "[encoded data removed]",
      "text/plain": [
       "<Figure size 640x480 with 1 Axes>"
      ]
     },
     "metadata": {},
     "output_type": "display_data"
    }
   ],
   "source": [
    "#посторим гисторграмму для растояний\n",
    "plt.hist(gen_data_fr_subs['distance'], bins=100, alpha=0.7, label='БЕЗ подписки')\n",
    "plt.hist(gen_data_ult_subs['distance'], bins=100, alpha=0.7, label='С подпиской')\n",
    "plt.legend(loc='upper right')\n",
    "plt.title('Количество поездок в зависимости от расстояния')\n",
    "plt.xlabel('Расстояние в метрах')\n",
    "plt.ylabel('Количество поездок')\n",
    "plt.show()\n",
    "\n",
    "#посторим гисторграмму для продолжительности\n",
    "plt.hist(gen_data_fr_subs['duration'], bins=35, alpha=0.7, label='БЕЗ подписки')\n",
    "plt.hist(gen_data_ult_subs['duration'], bins=38, alpha=0.7, label='С подписки')\n",
    "plt.legend(loc='upper right')\n",
    "plt.title('Количество поездок в зависимости от продолжительности')\n",
    "plt.xlabel('Продолжительность поездки')\n",
    "plt.ylabel('Количество поездок')\n",
    "plt.show()"
   ]
  },
  {
   "cell_type": "markdown",
   "id": "fd1c660d",
   "metadata": {
    "jp-MarkdownHeadingCollapsed": true
   },
   "source": [
    "### **Вывод**"
   ]
  },
  {
   "cell_type": "markdown",
   "id": "c25fbc39",
   "metadata": {},
   "source": [
    "В рамках нашего анализа мы объединили данные о пользователях (users_go), поездках (rides_go) и подписках (subscriptions_go) в единую таблицу под названием general_data. Это позволило нам создать целостное представление о поведении пользователей. В дальнейшем мы сформировали отдельные таблицы для пользователей без подписки(gen_data_fr_subs) и с подпиской(gen_data_ult_subs), чтобы провести более детальный анализ.\n",
    "\n",
    "Построенные гистограммы, анализирующие расстояние и продолжительность поездок для обеих групп пользователей, выявили интересные закономерности. Пользователи с подпиской совершают более продолжительные и удаленные поездки по сравнению с пользователями без подписки. Эти данные подчеркивают значительное различие в поведении пользователей в зависимости от наличия подписки, что может быть полезным для разработки стратегий по увеличению количества подписок и улучшению пользовательского опыта."
   ]
  },
  {
   "cell_type": "markdown",
   "id": "21d50cfc",
   "metadata": {},
   "source": [
    "<div class=\"alert alert-block alert-success\">\n",
    "<b>✅Комментарий ревьюера:</b> Отлично, различия в поведении двух групп пользователей изучили!  </div>"
   ]
  },
  {
   "cell_type": "markdown",
   "id": "5b8ac22c",
   "metadata": {},
   "source": [
    "## **Подсчёт выручки**"
   ]
  },
  {
   "cell_type": "markdown",
   "id": "9562edc7",
   "metadata": {},
   "source": [
    "Подсчитаем ежемесячную выручку, которую приносят пользователи. "
   ]
  },
  {
   "cell_type": "code",
   "execution_count": 45,
   "id": "921711cc",
   "metadata": {},
   "outputs": [
    {
     "data": {
      "text/html": [
       "<div>\n",
       "<style scoped>\n",
       "    .dataframe tbody tr th:only-of-type {\n",
       "        vertical-align: middle;\n",
       "    }\n",
       "\n",
       "    .dataframe tbody tr th {\n",
       "        vertical-align: top;\n",
       "    }\n",
       "\n",
       "    .dataframe thead th {\n",
       "        text-align: right;\n",
       "    }\n",
       "</style>\n",
       "<table border=\"1\" class=\"dataframe\">\n",
       "  <thead>\n",
       "    <tr style=\"text-align: right;\">\n",
       "      <th></th>\n",
       "      <th></th>\n",
       "      <th>distance</th>\n",
       "      <th>duration</th>\n",
       "      <th>count_trips</th>\n",
       "      <th>subscription_type</th>\n",
       "    </tr>\n",
       "    <tr>\n",
       "      <th>user_id</th>\n",
       "      <th>month</th>\n",
       "      <th></th>\n",
       "      <th></th>\n",
       "      <th></th>\n",
       "      <th></th>\n",
       "    </tr>\n",
       "  </thead>\n",
       "  <tbody>\n",
       "    <tr>\n",
       "      <th rowspan=\"6\" valign=\"top\">1</th>\n",
       "      <th>1</th>\n",
       "      <td>7026</td>\n",
       "      <td>42</td>\n",
       "      <td>2</td>\n",
       "      <td>ultra</td>\n",
       "    </tr>\n",
       "    <tr>\n",
       "      <th>4</th>\n",
       "      <td>754</td>\n",
       "      <td>7</td>\n",
       "      <td>1</td>\n",
       "      <td>ultra</td>\n",
       "    </tr>\n",
       "    <tr>\n",
       "      <th>8</th>\n",
       "      <td>6722</td>\n",
       "      <td>46</td>\n",
       "      <td>2</td>\n",
       "      <td>ultra</td>\n",
       "    </tr>\n",
       "    <tr>\n",
       "      <th>10</th>\n",
       "      <td>5809</td>\n",
       "      <td>32</td>\n",
       "      <td>2</td>\n",
       "      <td>ultra</td>\n",
       "    </tr>\n",
       "    <tr>\n",
       "      <th>11</th>\n",
       "      <td>7002</td>\n",
       "      <td>56</td>\n",
       "      <td>3</td>\n",
       "      <td>ultra</td>\n",
       "    </tr>\n",
       "    <tr>\n",
       "      <th>12</th>\n",
       "      <td>6751</td>\n",
       "      <td>28</td>\n",
       "      <td>2</td>\n",
       "      <td>ultra</td>\n",
       "    </tr>\n",
       "    <tr>\n",
       "      <th rowspan=\"4\" valign=\"top\">2</th>\n",
       "      <th>3</th>\n",
       "      <td>10187</td>\n",
       "      <td>63</td>\n",
       "      <td>3</td>\n",
       "      <td>ultra</td>\n",
       "    </tr>\n",
       "    <tr>\n",
       "      <th>4</th>\n",
       "      <td>6163</td>\n",
       "      <td>40</td>\n",
       "      <td>2</td>\n",
       "      <td>ultra</td>\n",
       "    </tr>\n",
       "    <tr>\n",
       "      <th>6</th>\n",
       "      <td>3255</td>\n",
       "      <td>14</td>\n",
       "      <td>1</td>\n",
       "      <td>ultra</td>\n",
       "    </tr>\n",
       "    <tr>\n",
       "      <th>7</th>\n",
       "      <td>6779</td>\n",
       "      <td>48</td>\n",
       "      <td>2</td>\n",
       "      <td>ultra</td>\n",
       "    </tr>\n",
       "  </tbody>\n",
       "</table>\n",
       "</div>"
      ],
      "text/plain": [
       "               distance  duration  count_trips subscription_type\n",
       "user_id month                                                   \n",
       "1       1          7026        42            2             ultra\n",
       "        4           754         7            1             ultra\n",
       "        8          6722        46            2             ultra\n",
       "        10         5809        32            2             ultra\n",
       "        11         7002        56            3             ultra\n",
       "        12         6751        28            2             ultra\n",
       "2       3         10187        63            3             ultra\n",
       "        4          6163        40            2             ultra\n",
       "        6          3255        14            1             ultra\n",
       "        7          6779        48            2             ultra"
      ]
     },
     "execution_count": 45,
     "metadata": {},
     "output_type": "execute_result"
    }
   ],
   "source": [
    "#создадим сводную таблицу о выручке\n",
    "revenue_data = general_data.pivot_table(\n",
    "    index=['user_id','month'],\n",
    "    values=['distance','name','duration','subscription_type'],\n",
    "    aggfunc={'distance': 'sum',\n",
    "             'name': 'count',\n",
    "             'duration': 'sum',\n",
    "             'subscription_type': 'first'\n",
    "            })\n",
    "#переименуем некторые столбцы в сводной таблице\n",
    "revenue_data = revenue_data.rename(columns = {'name' : 'count_trips'})\n",
    "\n",
    "revenue_data.head(10)"
   ]
  },
  {
   "cell_type": "markdown",
   "id": "df5a06e8",
   "metadata": {},
   "source": [
    "**возможно я усложнил что обрашаюсь в другую таблицу за ценами,  но показалось, что так будет правильнее**"
   ]
  },
  {
   "cell_type": "code",
   "execution_count": 46,
   "id": "828d49ea",
   "metadata": {},
   "outputs": [],
   "source": [
    "#сосздаим функцию для подсчета выручки\n",
    "def revs_month(row):\n",
    "     if row['subscription_type'] == 'ultra':\n",
    "         calculate = row['duration'] * subscriptions_go.loc[1,'minute_price'] + subscriptions_go.loc[1,'subscription_fee']\n",
    "         return calculate\n",
    "     elif row['subscription_type'] == 'free':\n",
    "         calculate = row['duration'] * subscriptions_go.loc[0,'minute_price'] + row['count_trips'] * subscriptions_go.loc[0,'start_ride_price']\n",
    "         return calculate"
   ]
  },
  {
   "cell_type": "code",
   "execution_count": 47,
   "id": "ebbd5b98",
   "metadata": {},
   "outputs": [
    {
     "data": {
      "text/html": [
       "<div>\n",
       "<style scoped>\n",
       "    .dataframe tbody tr th:only-of-type {\n",
       "        vertical-align: middle;\n",
       "    }\n",
       "\n",
       "    .dataframe tbody tr th {\n",
       "        vertical-align: top;\n",
       "    }\n",
       "\n",
       "    .dataframe thead th {\n",
       "        text-align: right;\n",
       "    }\n",
       "</style>\n",
       "<table border=\"1\" class=\"dataframe\">\n",
       "  <thead>\n",
       "    <tr style=\"text-align: right;\">\n",
       "      <th></th>\n",
       "      <th></th>\n",
       "      <th>distance</th>\n",
       "      <th>duration</th>\n",
       "      <th>count_trips</th>\n",
       "      <th>subscription_type</th>\n",
       "      <th>revenue_month</th>\n",
       "    </tr>\n",
       "    <tr>\n",
       "      <th>user_id</th>\n",
       "      <th>month</th>\n",
       "      <th></th>\n",
       "      <th></th>\n",
       "      <th></th>\n",
       "      <th></th>\n",
       "      <th></th>\n",
       "    </tr>\n",
       "  </thead>\n",
       "  <tbody>\n",
       "    <tr>\n",
       "      <th rowspan=\"6\" valign=\"top\">1</th>\n",
       "      <th>1</th>\n",
       "      <td>7026</td>\n",
       "      <td>42</td>\n",
       "      <td>2</td>\n",
       "      <td>ultra</td>\n",
       "      <td>451</td>\n",
       "    </tr>\n",
       "    <tr>\n",
       "      <th>4</th>\n",
       "      <td>754</td>\n",
       "      <td>7</td>\n",
       "      <td>1</td>\n",
       "      <td>ultra</td>\n",
       "      <td>241</td>\n",
       "    </tr>\n",
       "    <tr>\n",
       "      <th>8</th>\n",
       "      <td>6722</td>\n",
       "      <td>46</td>\n",
       "      <td>2</td>\n",
       "      <td>ultra</td>\n",
       "      <td>475</td>\n",
       "    </tr>\n",
       "    <tr>\n",
       "      <th>10</th>\n",
       "      <td>5809</td>\n",
       "      <td>32</td>\n",
       "      <td>2</td>\n",
       "      <td>ultra</td>\n",
       "      <td>391</td>\n",
       "    </tr>\n",
       "    <tr>\n",
       "      <th>11</th>\n",
       "      <td>7002</td>\n",
       "      <td>56</td>\n",
       "      <td>3</td>\n",
       "      <td>ultra</td>\n",
       "      <td>535</td>\n",
       "    </tr>\n",
       "    <tr>\n",
       "      <th>12</th>\n",
       "      <td>6751</td>\n",
       "      <td>28</td>\n",
       "      <td>2</td>\n",
       "      <td>ultra</td>\n",
       "      <td>367</td>\n",
       "    </tr>\n",
       "    <tr>\n",
       "      <th rowspan=\"4\" valign=\"top\">2</th>\n",
       "      <th>3</th>\n",
       "      <td>10187</td>\n",
       "      <td>63</td>\n",
       "      <td>3</td>\n",
       "      <td>ultra</td>\n",
       "      <td>577</td>\n",
       "    </tr>\n",
       "    <tr>\n",
       "      <th>4</th>\n",
       "      <td>6163</td>\n",
       "      <td>40</td>\n",
       "      <td>2</td>\n",
       "      <td>ultra</td>\n",
       "      <td>439</td>\n",
       "    </tr>\n",
       "    <tr>\n",
       "      <th>6</th>\n",
       "      <td>3255</td>\n",
       "      <td>14</td>\n",
       "      <td>1</td>\n",
       "      <td>ultra</td>\n",
       "      <td>283</td>\n",
       "    </tr>\n",
       "    <tr>\n",
       "      <th>7</th>\n",
       "      <td>6779</td>\n",
       "      <td>48</td>\n",
       "      <td>2</td>\n",
       "      <td>ultra</td>\n",
       "      <td>487</td>\n",
       "    </tr>\n",
       "  </tbody>\n",
       "</table>\n",
       "</div>"
      ],
      "text/plain": [
       "               distance  duration  count_trips subscription_type  \\\n",
       "user_id month                                                      \n",
       "1       1          7026        42            2             ultra   \n",
       "        4           754         7            1             ultra   \n",
       "        8          6722        46            2             ultra   \n",
       "        10         5809        32            2             ultra   \n",
       "        11         7002        56            3             ultra   \n",
       "        12         6751        28            2             ultra   \n",
       "2       3         10187        63            3             ultra   \n",
       "        4          6163        40            2             ultra   \n",
       "        6          3255        14            1             ultra   \n",
       "        7          6779        48            2             ultra   \n",
       "\n",
       "               revenue_month  \n",
       "user_id month                 \n",
       "1       1                451  \n",
       "        4                241  \n",
       "        8                475  \n",
       "        10               391  \n",
       "        11               535  \n",
       "        12               367  \n",
       "2       3                577  \n",
       "        4                439  \n",
       "        6                283  \n",
       "        7                487  "
      ]
     },
     "metadata": {},
     "output_type": "display_data"
    }
   ],
   "source": [
    "#применим функцию revs_month\n",
    "revenue_data['revenue_month'] = revenue_data.apply(revs_month, axis=1)\n",
    "\n",
    "display(revenue_data.head(10))"
   ]
  },
  {
   "cell_type": "markdown",
   "id": "096b36b0",
   "metadata": {},
   "source": [
    "### **Вывод**"
   ]
  },
  {
   "cell_type": "markdown",
   "id": "a35cba2d",
   "metadata": {},
   "source": [
    "Создали таблицу с агрегированными данными о поездках, нашли суммарное расстояние, количество поездок и суммарное время для каждого пользователя за каждый месяц. Добавили столбец с помесячной выручкой, которую принёс каждый пользователь. \n",
    "\n",
    "Мы создали таблицу **(revenue_data)** с агрегированными данными о поездках, которая включает ключевые показатели для каждого пользователя за каждый месяц. В эту таблицу вошли:\n",
    "\n",
    "- Суммарное расстояние, пройденное пользователем.\n",
    "- Общее количество совершённых поездок.\n",
    "- Суммарное время, затраченное на поездки.\n",
    "\n",
    "Кроме того, мы добавили столбец **(revenue_month)** с помесячной выручкой, которую принёс каждый пользователь. Эти данные позволяют нам более глубоко анализировать активность пользователей и их вклад в общую выручку сервиса."
   ]
  },
  {
   "cell_type": "markdown",
   "id": "a8f31f71",
   "metadata": {},
   "source": [
    "## **Проверка гипотез**"
   ]
  },
  {
   "cell_type": "markdown",
   "id": "2d27185c",
   "metadata": {},
   "source": [
    "Продакт менеджеры желают увеличить количество пользователей подпиской. Для достижения своих целей они проведут различные акции, но для начала мы проверим некоторые гипотезы."
   ]
  },
  {
   "cell_type": "markdown",
   "id": "75c677dc",
   "metadata": {},
   "source": [
    "### Гипотеза **№1**"
   ]
  },
  {
   "cell_type": "markdown",
   "id": "7db3359f",
   "metadata": {},
   "source": [
    "Важно понять, тратят ли пользователи с подпиской больше времени на поездки? Если да, то пользователи с подпиской могут быть «выгоднее» для компании. Используем исходные данные о продолжительности каждой сессии — отдельно для подписчиков и тех, у кого нет подписки.\n",
    "\n",
    "**H_0**: Продолжительность сессии `duration` пользователей по подписке `ultra` **=** продолжительности сессии `duration` пользователей по подписке `free`\n",
    "\n",
    "**H_1**: Продолжительность сессии `duration` пользователей по подписке `ultra` **>** продолжительности сессии `duration` пользователей по подписке `free`"
   ]
  },
  {
   "cell_type": "code",
   "execution_count": 48,
   "id": "0216d470",
   "metadata": {},
   "outputs": [
    {
     "name": "stdout",
     "output_type": "stream",
     "text": [
      "1.1814679253701353e-36\n",
      "Отвергаем нулевую гипотезу\n"
     ]
    }
   ],
   "source": [
    "#проверим гипотезу\n",
    "results = st.ttest_ind(\n",
    "    gen_data_ult_subs['duration'], \n",
    "    gen_data_fr_subs['duration'],\n",
    "    equal_var=False, \n",
    "    alternative = 'greater'\n",
    ")\n",
    "\n",
    "alpha = 0.05\n",
    "\n",
    "print(results.pvalue)\n",
    "\n",
    "if results.pvalue < alpha:\n",
    "    print('Отвергаем нулевую гипотезу')\n",
    "else:\n",
    "    print('Не удалось отвергнуть нулевую гипотезу')"
   ]
  },
  {
   "cell_type": "markdown",
   "id": "8e8e7058",
   "metadata": {},
   "source": [
    "Отвергнем гипотезу о том, что время поездки пользователей по подписке `ultra` равно времени поездки пользователей по подписке `free`.\n",
    "\n",
    "Отклонение от гипотезы, связывая время поездки пользователей подписчиков Ultra и Free, подтверждает существенные различия в поведении и предпочтениях пользователей между этими платформами. Этот результат может быть использован для оптимизации маркетинговых стратегий и персонализации услуг для обеих подписчиков, а также для анализа, почему некоторые пользователи предпочитают одну платформу над другой."
   ]
  },
  {
   "cell_type": "markdown",
   "id": "13fcac4b",
   "metadata": {},
   "source": [
    "### Гипотеза **№2**"
   ]
  },
  {
   "cell_type": "markdown",
   "id": "5af58e70",
   "metadata": {},
   "source": [
    "Расстояние одной поездки в 3130 метров — оптимальное с точки зрения износа самоката. Можно ли сказать, что среднее расстояние, которое проезжают пользователи с подпиской за одну поездку, не превышает 3130 метров? Используем исходные данные о расстоянии каждой сессии для подписчиков. \n",
    "\n",
    "**H_0**: Расстояние сессии `distance` пользователей по подписке `ultra` **=** 3130 метров.\n",
    "\n",
    "**H_1**: Расстояние сессии `distance` пользователей по подписке `ultra` **>** 3130 метров."
   ]
  },
  {
   "cell_type": "code",
   "execution_count": 49,
   "id": "df2186e0",
   "metadata": {},
   "outputs": [
    {
     "name": "stdout",
     "output_type": "stream",
     "text": [
      "0.9264356652998772\n",
      "Не удалось отвергнуть нулевую гипотезу\n"
     ]
    }
   ],
   "source": [
    "#предпологаемое среднее\n",
    "value = 3130\n",
    "#проверим гипотезу\n",
    "results = st.ttest_1samp(\n",
    "    gen_data_ult_subs['distance'], \n",
    "    value,\n",
    "    alternative='greater')\n",
    "\n",
    "alpha = 0.05\n",
    "\n",
    "print(results.pvalue)\n",
    "\n",
    "if (results.pvalue < alpha):\n",
    "    print('Отвергаем нулевую гипотезу')\n",
    "else:\n",
    "    print('Не удалось отвергнуть нулевую гипотезу')"
   ]
  },
  {
   "cell_type": "markdown",
   "id": "da665a39",
   "metadata": {},
   "source": [
    "Опровергнем гипотезу о том, что расстояние, которое проехали пользователи на тарифе `ultra` превышает 3130 метров.\n",
    "\n",
    "Отклонение от гипотезы, связывающая расстояние проезда пользователей на тарифе Ultra с пределами 3130 метров, указывает на необходимость более детального анализа маршрутизации и условий использования тарифа. Это может быть использовано для оптимизации маршрутизации, повышения эффективности и улучшения пользовательского опыта. Кроме того, результаты могут быть использованы для определения дополнительных преимуществ тарифа Ultra, которые могут привлечь больше пользователей."
   ]
  },
  {
   "cell_type": "markdown",
   "id": "a7adfb64",
   "metadata": {},
   "source": [
    "### Гипотеза **№3**"
   ]
  },
  {
   "cell_type": "markdown",
   "id": "6174107a",
   "metadata": {},
   "source": [
    "Будет ли помесячная выручка от пользователей с подпиской по месяцам выше, чем выручка от пользователей без подписки? Используем исходные данные о помесячной выручке от пользователей — отдельно для подписчиков и тех, у кого нет подписки.\n",
    "\n",
    "**H_0**: Помесячная выручка `revenue_month` от пользователей по подписке `ultra` **=** помесячная выручка `revenue_month` от пользователей по подписке `free`\n",
    "\n",
    "**H_1**: Помесячная выручка `revenue_month` от пользователей по подписке `ultra` **>**  помесячная выручка `revenue_month` от пользователей по подписке `free`"
   ]
  },
  {
   "cell_type": "code",
   "execution_count": 50,
   "id": "fce201a8",
   "metadata": {},
   "outputs": [
    {
     "name": "stdout",
     "output_type": "stream",
     "text": [
      "1.8850394384715216e-31\n",
      "Отвергаем нулевую гипотезу\n"
     ]
    }
   ],
   "source": [
    "#проверим гипотезу\n",
    "results = st.ttest_ind(\n",
    "    revenue_data.query('subscription_type == \"ultra\"')['revenue_month'].values, \n",
    "    revenue_data.query('subscription_type == \"free\"')['revenue_month'].values,\n",
    "    alternative = 'greater'\n",
    ")\n",
    "\n",
    "alpha = 0.05\n",
    "\n",
    "print(results.pvalue)\n",
    "\n",
    "if results.pvalue < alpha:\n",
    "    print('Отвергаем нулевую гипотезу')\n",
    "else:\n",
    "    print('Не удалось отвергнуть нулевую гипотезу')"
   ]
  },
  {
   "cell_type": "markdown",
   "id": "2ba94109",
   "metadata": {},
   "source": [
    "Отвергнем гипотезу о том, что помесячная выручка `revenue_month` от пользователей по подписке `ultra` равна помесячной выручке `revenue_month` от пользователей по подписке `free`.\n",
    "\n",
    "Отклонение от гипотезы, связывающей месячную выручку Ultra и Free, говорит о том, что подписка Ultra является более рекламно-эффективным платформой с более высокой прибыльностью. Этот результат может быть использован для анализа привлекательности Ultra, анализа рынка и потребителей, а также для разработки стратегий повышения прибыль от Ultra-подписей."
   ]
  },
  {
   "cell_type": "markdown",
   "id": "4f8550a7",
   "metadata": {},
   "source": [
    "### Гипотеза **№4**"
   ]
  },
  {
   "cell_type": "markdown",
   "id": "4b03565d",
   "metadata": {},
   "source": [
    "Ситуация: техническая команда сервиса обновила сервера, с которыми взаимодействует мобильное приложение. Она надеется, что из-за этого количество обращений в техподдержку значимо снизилось. Некоторый файл содержит для каждого пользователя данные о количестве обращений до обновления и после него. Какой тест вам понадобился бы для проверки этой гипотезы?\n",
    "\n",
    "**H_0**: Обращения в поддержку `μ1` от пользователей до обновления = обращения в поддержку `μ2` от пользователей после обновления.\n",
    "\n",
    "**H_1**: Обращения в поддержку `μ1` от пользователей до обновления **>**  обращения в поддержку `μ2` от пользователей после обновления.\n",
    "\n",
    "Метод, который можно применить для подтверждения или опровержения гипотезы, — `scipy.stats.ttest_rel()`."
   ]
  },
  {
   "cell_type": "markdown",
   "id": "12d6c21a",
   "metadata": {},
   "source": [
    "### **Вывод**"
   ]
  },
  {
   "cell_type": "markdown",
   "id": "fc2b0231",
   "metadata": {},
   "source": [
    "В ходе анализа данных были рассмотрены и проверены различные гипотезы относительно поведения пользователей и их взаимодействия с предложенными тарифами. \n",
    "\n",
    "Первая гипотеза предполагала, что время поездки пользователей с подпиской ultra идентично времени поездки пользователей с бесплатной подпиской. Однако, эта гипотеза была опровергнута, указывая на наличие статистически значимых различий между двумя группами пользователей.\n",
    "\n",
    "Вторая гипотеза утверждала, что пользователи на тарифе ultra в среднем проезжают больше 3130 метров. Эта гипотеза также была отвергнута, что подразумевает, что среднее расстояние поездки для данной группы пользователей не превышает указанный порог.\n",
    "\n",
    "Третья гипотеза касалась сравнения помесячной выручки от пользователей с подпиской ultra и бесплатной подпиской. Результаты анализа показали, что эти две группы приносят различную выручку, что привело к отвержению гипотезы о равенстве помесячной выручки между этими группами.\n",
    "\n",
    "В рамках четвёртой гипотезы был предложен метод scipy.stats.ttest_rel() как инструмент для проверки статистических гипотез. Этот метод применим к сопоставимым выборкам, когда измерения проведены в парных наблюдениях, и может быть использован для определения наличия или отсутствия статистически значимых различий между группами.\n",
    "\n",
    "В целом, результаты анализа гипотез говорят о том, что поведение пользователей и их взаимодействие с предложенными тарифами имеют значительные различия, что подчёркивает необходимость дальнейшего изучения предпочтений пользователей для оптимизации предложений и услуг."
   ]
  },
  {
   "cell_type": "markdown",
   "id": "ee484228",
   "metadata": {},
   "source": [
    "# **Вывод**\n",
    "\n",
    "## В рамках исследования мы проанализировали данные о пользователях сервиса GoFast, их поездках и наличии подписки. "
   ]
  },
  {
   "cell_type": "markdown",
   "id": "bde14866",
   "metadata": {},
   "source": [
    "1. **Предобработка данных:**\n",
    "    - Мы объединили три таблицы данных (users_go, rides_go, subscriptions_go) в единую таблицу general_data.\n",
    "    - Удалили дубликаты, округлили значения в столбце duration, изменили тип данных в столбце distance и добавили столбец month в таблице rides_go.\n",
    "    - Создали отдельные таблицы для пользователей с подпиской (gen_data_ult_subs) и без подписки (gen_data_fr_subs).\n",
    "    - Сформировали  таблицу revenue_data с агрегированными данными о поездках (суммарное расстояние, количество поездок, суммарное время, помесячная выручка) для каждого пользователя.\n",
    "\n",
    "2. **Анализ данных:**\n",
    "    - Проанализировали распределение пользователей по городам, возрасту и наличию подписки.\n",
    "    - Сравнили среднюю продолжительность и расстояние поездок для пользователей с подпиской и без.\n",
    "    - Проверили три гипотезы:\n",
    "        - Гипотеза 1: время поездки пользователей с подпиской Ultra равно времени поездки пользователей без подписки. **Опровергнута.**\n",
    "        - Гипотеза 2: расстояние, которое проехали пользователи на тарифе Ultra превышает 3130 метров. **Опровергнута.**\n",
    "        - Гипотеза 3: помесячная выручка от пользователей с подпиской Ultra равна помесячной выручке от пользователей без подписки. **Опровергнута.**\n",
    "    - Определили метод scipy.stats.ttest_rel() для проверки гипотезы 4.\n",
    "\n",
    "**Главные выводы:**\n",
    "\n",
    "- Пользователи с подпиской Ultra совершают более длительные и дальние поездки, чем пользователи без подписки.\n",
    "- **Пользователи с подпиской Ultra приносят компании больше выручки, чем пользователи без подписки.**\n",
    "\n",
    "**Рекомендации:**\n",
    "\n",
    "- Для прогнозирования поведения пользователей рекомендуется использовать следующие признаки: наличие подписки, возраст, город проживания.\n",
    "- Для предотвращения появления дубликатов и пропущенных значений рекомендуется внедрить систему валидации данных на этапе их ввода.\n",
    "- Для увеличения выручки рекомендуется разработать стратегии по привлечению пользователей к оформлению подписки Ultra, например, предлагать бонусы и скидки.\n",
    "- Для более глубокого анализа поведения пользователей рекомендуется провести сегментацию пользователей по различным признакам (например, частота поездок, средний чек) и разработать персонализированные предложения для каждой группы.\n",
    "- Для проверки гипотезы 4 рекомендуется использовать метод scipy.stats.ttest_rel()."
   ]
  }
 ],
 "metadata": {
  "ExecuteTimeLog": [
   {
    "duration": 932,
    "start_time": "2024-05-20T15:40:47.200Z"
   },
   {
    "duration": 67,
    "start_time": "2024-05-20T15:40:48.133Z"
   },
   {
    "duration": 9,
    "start_time": "2024-05-20T15:40:48.202Z"
   },
   {
    "duration": 8,
    "start_time": "2024-05-20T15:40:48.213Z"
   },
   {
    "duration": 6,
    "start_time": "2024-05-20T15:40:48.222Z"
   },
   {
    "duration": 14,
    "start_time": "2024-05-20T15:40:48.229Z"
   },
   {
    "duration": 31,
    "start_time": "2024-05-20T15:40:48.244Z"
   },
   {
    "duration": 5,
    "start_time": "2024-05-20T15:40:48.276Z"
   },
   {
    "duration": 35,
    "start_time": "2024-05-20T15:40:48.282Z"
   },
   {
    "duration": 12,
    "start_time": "2024-05-20T15:40:48.319Z"
   },
   {
    "duration": 138,
    "start_time": "2024-05-20T15:40:48.332Z"
   },
   {
    "duration": 85,
    "start_time": "2024-05-20T15:40:48.471Z"
   },
   {
    "duration": 218,
    "start_time": "2024-05-20T15:40:48.557Z"
   },
   {
    "duration": 209,
    "start_time": "2024-05-20T15:40:48.776Z"
   },
   {
    "duration": 154,
    "start_time": "2024-05-20T15:40:48.986Z"
   },
   {
    "duration": 23,
    "start_time": "2024-05-20T15:40:49.141Z"
   },
   {
    "duration": 430,
    "start_time": "2024-05-20T15:40:49.165Z"
   },
   {
    "duration": 358,
    "start_time": "2024-05-20T15:40:49.596Z"
   },
   {
    "duration": 21,
    "start_time": "2024-05-20T15:40:49.955Z"
   },
   {
    "duration": 3,
    "start_time": "2024-05-20T15:40:49.978Z"
   },
   {
    "duration": 265,
    "start_time": "2024-05-20T15:40:49.982Z"
   },
   {
    "duration": 4,
    "start_time": "2024-05-20T15:40:50.248Z"
   },
   {
    "duration": 75,
    "start_time": "2024-05-20T15:40:50.254Z"
   },
   {
    "duration": 78,
    "start_time": "2024-05-20T15:40:50.331Z"
   },
   {
    "duration": 6,
    "start_time": "2024-05-20T15:45:57.188Z"
   },
   {
    "duration": 977,
    "start_time": "2024-05-20T15:48:32.899Z"
   },
   {
    "duration": 67,
    "start_time": "2024-05-20T15:48:33.878Z"
   },
   {
    "duration": 10,
    "start_time": "2024-05-20T15:48:33.946Z"
   },
   {
    "duration": 11,
    "start_time": "2024-05-20T15:48:33.958Z"
   },
   {
    "duration": 8,
    "start_time": "2024-05-20T15:48:33.970Z"
   },
   {
    "duration": 17,
    "start_time": "2024-05-20T15:48:33.979Z"
   },
   {
    "duration": 22,
    "start_time": "2024-05-20T15:48:33.997Z"
   },
   {
    "duration": 5,
    "start_time": "2024-05-20T15:48:34.020Z"
   },
   {
    "duration": 21,
    "start_time": "2024-05-20T15:48:34.026Z"
   },
   {
    "duration": 12,
    "start_time": "2024-05-20T15:48:34.049Z"
   },
   {
    "duration": 154,
    "start_time": "2024-05-20T15:48:34.062Z"
   },
   {
    "duration": 87,
    "start_time": "2024-05-20T15:48:34.217Z"
   },
   {
    "duration": 211,
    "start_time": "2024-05-20T15:48:34.306Z"
   },
   {
    "duration": 209,
    "start_time": "2024-05-20T15:48:34.518Z"
   },
   {
    "duration": 153,
    "start_time": "2024-05-20T15:48:34.728Z"
   },
   {
    "duration": 40,
    "start_time": "2024-05-20T15:48:34.882Z"
   },
   {
    "duration": 420,
    "start_time": "2024-05-20T15:48:34.924Z"
   },
   {
    "duration": 343,
    "start_time": "2024-05-20T15:48:35.345Z"
   },
   {
    "duration": 28,
    "start_time": "2024-05-20T15:48:35.690Z"
   },
   {
    "duration": 40,
    "start_time": "2024-05-20T15:48:35.719Z"
   },
   {
    "duration": 289,
    "start_time": "2024-05-20T15:48:35.761Z"
   },
   {
    "duration": 3,
    "start_time": "2024-05-20T15:48:36.052Z"
   },
   {
    "duration": 43,
    "start_time": "2024-05-20T15:48:36.057Z"
   },
   {
    "duration": 34,
    "start_time": "2024-05-20T15:48:36.101Z"
   },
   {
    "duration": 911,
    "start_time": "2024-05-21T01:13:28.615Z"
   },
   {
    "duration": 69,
    "start_time": "2024-05-21T01:13:29.528Z"
   },
   {
    "duration": 19,
    "start_time": "2024-05-21T01:13:29.598Z"
   },
   {
    "duration": 12,
    "start_time": "2024-05-21T01:13:29.619Z"
   },
   {
    "duration": 12,
    "start_time": "2024-05-21T01:13:29.633Z"
   },
   {
    "duration": 2,
    "start_time": "2024-05-21T01:13:29.647Z"
   },
   {
    "duration": 51,
    "start_time": "2024-05-21T01:13:29.651Z"
   },
   {
    "duration": 5,
    "start_time": "2024-05-21T01:13:29.704Z"
   },
   {
    "duration": 39,
    "start_time": "2024-05-21T01:13:29.710Z"
   },
   {
    "duration": 12,
    "start_time": "2024-05-21T01:13:29.751Z"
   },
   {
    "duration": 148,
    "start_time": "2024-05-21T01:13:29.764Z"
   },
   {
    "duration": 77,
    "start_time": "2024-05-21T01:13:29.913Z"
   },
   {
    "duration": 214,
    "start_time": "2024-05-21T01:13:30.001Z"
   },
   {
    "duration": 241,
    "start_time": "2024-05-21T01:13:30.216Z"
   },
   {
    "duration": 153,
    "start_time": "2024-05-21T01:13:30.459Z"
   },
   {
    "duration": 30,
    "start_time": "2024-05-21T01:13:30.613Z"
   },
   {
    "duration": 77,
    "start_time": "2024-05-21T01:13:30.644Z"
   },
   {
    "duration": 49,
    "start_time": "2024-05-21T01:13:30.722Z"
   },
   {
    "duration": 600,
    "start_time": "2024-05-21T01:13:30.772Z"
   },
   {
    "duration": 29,
    "start_time": "2024-05-21T01:13:31.373Z"
   },
   {
    "duration": 27,
    "start_time": "2024-05-21T01:13:31.403Z"
   },
   {
    "duration": 268,
    "start_time": "2024-05-21T01:13:31.431Z"
   },
   {
    "duration": 4,
    "start_time": "2024-05-21T01:13:31.702Z"
   },
   {
    "duration": 32,
    "start_time": "2024-05-21T01:13:31.708Z"
   },
   {
    "duration": 35,
    "start_time": "2024-05-21T01:13:31.741Z"
   }
  ],
  "kernelspec": {
   "display_name": "Python 3 (ipykernel)",
   "language": "python",
   "name": "python3"
  },
  "language_info": {
   "codemirror_mode": {
    "name": "ipython",
    "version": 3
   },
   "file_extension": ".py",
   "mimetype": "text/x-python",
   "name": "python",
   "nbconvert_exporter": "python",
   "pygments_lexer": "ipython3",
   "version": "3.12.3"
  },
  "toc": {
   "base_numbering": 1,
   "nav_menu": {},
   "number_sections": true,
   "sideBar": true,
   "skip_h1_title": true,
   "title_cell": "Table of Contents",
   "title_sidebar": "Contents",
   "toc_cell": false,
   "toc_position": {},
   "toc_section_display": true,
   "toc_window_display": false
  }
 },
 "nbformat": 4,
 "nbformat_minor": 5
}
